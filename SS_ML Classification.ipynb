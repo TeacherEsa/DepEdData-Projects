{
 "cells": [
  {
   "cell_type": "markdown",
   "metadata": {},
   "source": [
    "Dataset: depedSS.csv"
   ]
  },
  {
   "cell_type": "markdown",
   "metadata": {},
   "source": [
    "# Ensemble-Based Model"
   ]
  },
  {
   "cell_type": "markdown",
   "metadata": {},
   "source": [
    "# FEATURE SELECTION"
   ]
  },
  {
   "cell_type": "markdown",
   "metadata": {},
   "source": [
    "###Attributes (DepEd SS data)\n",
    "  1. SchID: unique 6-digit code assigned to public school (numeric)\n",
    "  2. SchName : name of school (object: text)\n",
    "  3. DivName : division name (object: mixed characters)\n",
    "  4. DivCode : division code (object: mixed characters)\n",
    "  5. Clusters: NAT grouping by DepEd (categorical: \"1\", \"2\", \"3\", \"4\", \"5\", \"6\")\n",
    "  6. Region: schools regional location (categorical: values 1 to 16)\n",
    "  7. Filipno: school average filipino NAT score (categorical: \"1\", \"2\", \"3\", \"4\", \"5\", \"6\")\n",
    "  8. AralinP: school average araling panlipunan NAT score (categorical: \"1\", \"2\", \"3\", \"4\", \"5\", \"6\")\n",
    "  9. Mathematics: school average mathematics NAT score (categorical: \"1\", \"2\", \"3\", \"4\", \"5\", \"6\")\n",
    "  10. Science: school average science NAT score (categorical: \"1\", \"2\", \"3\", \"4\", \"5\", \"6\")categorical: 1 means below 75; 2 means above 75)\n",
    "  11. English: school average english NAT score (categorical: \"1\", \"2\", \"3\", \"4\", \"5\", \"6\")\n",
    "  12. Overall: school average NAT score (categorical: \"1\", \"2\", \"3\", \"4\", \"5\", \"6\")\n",
    "  13. Internet: does school have internet (binary: 0 means \"no\", 1 means \"yes\")\n",
    "  14. Lat: latitude coordinate location of school (numeric: -90 to 90)\n",
    "  15. Long: longitude coordinate location of school (numeric: -180 to 180)\n",
    "  16. Enrolled: number of students (numeric)\n",
    "  17. Teacher: number of teacher items (numeric)\n",
    "  18. Ratio: teacher to student ratio(numeric between 0 to 1)\n",
    "  19. Energized : does school have electricity (binary: 0 means \"no\", 1 means \"yes\")\n",
    "  20. SchType: type of school (categorical: \"School with no annexes\",\"mother school\", \"Annex or extension\")"
   ]
  },
  {
   "cell_type": "markdown",
   "metadata": {},
   "source": [
    "## Import Libraries"
   ]
  },
  {
   "cell_type": "code",
   "execution_count": 1,
   "metadata": {},
   "outputs": [],
   "source": [
    "import pandas as pd\n",
    "import numpy as np\n",
    "import seaborn as sns\n",
    "from sklearn.ensemble import ExtraTreesClassifier\n",
    "import matplotlib.pyplot as plt\n",
    "from sklearn.feature_selection import SelectKBest\n",
    "from sklearn.feature_selection import chi2\n",
    "from sklearn.preprocessing import LabelEncoder\n",
    "from sklearn.model_selection import train_test_split\n",
    "from sklearn.linear_model import LogisticRegression\n",
    "from sklearn.ensemble import RandomForestClassifier\n",
    "from sklearn.tree import DecisionTreeClassifier\n",
    "from sklearn.metrics import confusion_matrix, classification_report, accuracy_score\n",
    "from sklearn.model_selection import cross_val_score\n",
    "from xgboost import XGBClassifier, plot_importance"
   ]
  },
  {
   "cell_type": "code",
   "execution_count": 2,
   "metadata": {},
   "outputs": [],
   "source": [
    "import os\n",
    "os.environ['KMP_DUPLICATE_LIB_OK']='True'"
   ]
  },
  {
   "cell_type": "markdown",
   "metadata": {},
   "source": [
    "### Upload data set, drop unnecessary columns, identify target/independent columns"
   ]
  },
  {
   "cell_type": "code",
   "execution_count": 3,
   "metadata": {},
   "outputs": [],
   "source": [
    "data = pd.read_csv(\"DepEd_SS.CSV\")"
   ]
  },
  {
   "cell_type": "code",
   "execution_count": 4,
   "metadata": {},
   "outputs": [
    {
     "data": {
      "text/html": [
       "<div>\n",
       "<style scoped>\n",
       "    .dataframe tbody tr th:only-of-type {\n",
       "        vertical-align: middle;\n",
       "    }\n",
       "\n",
       "    .dataframe tbody tr th {\n",
       "        vertical-align: top;\n",
       "    }\n",
       "\n",
       "    .dataframe thead th {\n",
       "        text-align: right;\n",
       "    }\n",
       "</style>\n",
       "<table border=\"1\" class=\"dataframe\">\n",
       "  <thead>\n",
       "    <tr style=\"text-align: right;\">\n",
       "      <th></th>\n",
       "      <th>SchID</th>\n",
       "      <th>SchName</th>\n",
       "      <th>DivisionName</th>\n",
       "      <th>DivisionCode</th>\n",
       "      <th>Province</th>\n",
       "      <th>MunicipalityORCity</th>\n",
       "      <th>Clusters</th>\n",
       "      <th>Region</th>\n",
       "      <th>Filipino</th>\n",
       "      <th>AralinP</th>\n",
       "      <th>...</th>\n",
       "      <th>Enrolled</th>\n",
       "      <th>Teachers</th>\n",
       "      <th>Ratio</th>\n",
       "      <th>Energized</th>\n",
       "      <th>SchoolType</th>\n",
       "      <th>PBOR</th>\n",
       "      <th>PovertyCluster</th>\n",
       "      <th>PovertyIncidence</th>\n",
       "      <th>LowerLimit</th>\n",
       "      <th>UpperLimit</th>\n",
       "    </tr>\n",
       "  </thead>\n",
       "  <tbody>\n",
       "    <tr>\n",
       "      <th>0</th>\n",
       "      <td>317312</td>\n",
       "      <td>La-Union Integrated HS</td>\n",
       "      <td>Cabadbaran City</td>\n",
       "      <td>R10</td>\n",
       "      <td>AGUSAN DEL NORTE</td>\n",
       "      <td>CITY OF CABADBARAN</td>\n",
       "      <td>4</td>\n",
       "      <td>CARAGA</td>\n",
       "      <td>58.8889</td>\n",
       "      <td>43.2184</td>\n",
       "      <td>...</td>\n",
       "      <td>266</td>\n",
       "      <td>10</td>\n",
       "      <td>27.000000</td>\n",
       "      <td>1</td>\n",
       "      <td>Annex or Extension school(s)</td>\n",
       "      <td>12911</td>\n",
       "      <td>2</td>\n",
       "      <td>28</td>\n",
       "      <td>20</td>\n",
       "      <td>72</td>\n",
       "    </tr>\n",
       "    <tr>\n",
       "      <th>1</th>\n",
       "      <td>304690</td>\n",
       "      <td>Lingayao NHS</td>\n",
       "      <td>Agusan Del Norte</td>\n",
       "      <td>R01</td>\n",
       "      <td>AGUSAN DEL NORTE</td>\n",
       "      <td>LAS NIEVES</td>\n",
       "      <td>5</td>\n",
       "      <td>CARAGA</td>\n",
       "      <td>80.2000</td>\n",
       "      <td>71.3667</td>\n",
       "      <td>...</td>\n",
       "      <td>273</td>\n",
       "      <td>11</td>\n",
       "      <td>24.818182</td>\n",
       "      <td>1</td>\n",
       "      <td>School with no Annexes</td>\n",
       "      <td>12911</td>\n",
       "      <td>2</td>\n",
       "      <td>28</td>\n",
       "      <td>20</td>\n",
       "      <td>72</td>\n",
       "    </tr>\n",
       "    <tr>\n",
       "      <th>2</th>\n",
       "      <td>304689</td>\n",
       "      <td>Las Nieves NHS</td>\n",
       "      <td>Agusan Del Norte</td>\n",
       "      <td>R01</td>\n",
       "      <td>AGUSAN DEL NORTE</td>\n",
       "      <td>LAS NIEVES</td>\n",
       "      <td>3</td>\n",
       "      <td>CARAGA</td>\n",
       "      <td>71.1937</td>\n",
       "      <td>66.0586</td>\n",
       "      <td>...</td>\n",
       "      <td>748</td>\n",
       "      <td>42</td>\n",
       "      <td>17.809524</td>\n",
       "      <td>1</td>\n",
       "      <td>School with no Annexes</td>\n",
       "      <td>12911</td>\n",
       "      <td>2</td>\n",
       "      <td>28</td>\n",
       "      <td>20</td>\n",
       "      <td>72</td>\n",
       "    </tr>\n",
       "    <tr>\n",
       "      <th>3</th>\n",
       "      <td>317310</td>\n",
       "      <td>E. G. Montilla NHS (Mat-I NHS Annex)</td>\n",
       "      <td>Agusan Del Norte</td>\n",
       "      <td>R01</td>\n",
       "      <td>AGUSAN DEL NORTE</td>\n",
       "      <td>LAS NIEVES</td>\n",
       "      <td>5</td>\n",
       "      <td>CARAGA</td>\n",
       "      <td>68.6054</td>\n",
       "      <td>64.0136</td>\n",
       "      <td>...</td>\n",
       "      <td>511</td>\n",
       "      <td>27</td>\n",
       "      <td>19.000000</td>\n",
       "      <td>1</td>\n",
       "      <td>Annex or Extension school(s)</td>\n",
       "      <td>12911</td>\n",
       "      <td>2</td>\n",
       "      <td>28</td>\n",
       "      <td>20</td>\n",
       "      <td>72</td>\n",
       "    </tr>\n",
       "    <tr>\n",
       "      <th>4</th>\n",
       "      <td>317311</td>\n",
       "      <td>Balangbalang NHS (Agay NHS Annex)</td>\n",
       "      <td>Agusan Del Norte</td>\n",
       "      <td>R01</td>\n",
       "      <td>AGUSAN DEL NORTE</td>\n",
       "      <td>REMEDIOS T. ROMUALDEZ</td>\n",
       "      <td>4</td>\n",
       "      <td>CARAGA</td>\n",
       "      <td>72.9398</td>\n",
       "      <td>69.4213</td>\n",
       "      <td>...</td>\n",
       "      <td>511</td>\n",
       "      <td>27</td>\n",
       "      <td>19.000000</td>\n",
       "      <td>1</td>\n",
       "      <td>Annex or Extension school(s)</td>\n",
       "      <td>12911</td>\n",
       "      <td>2</td>\n",
       "      <td>28</td>\n",
       "      <td>20</td>\n",
       "      <td>72</td>\n",
       "    </tr>\n",
       "  </tbody>\n",
       "</table>\n",
       "<p>5 rows × 28 columns</p>\n",
       "</div>"
      ],
      "text/plain": [
       "    SchID                               SchName      DivisionName  \\\n",
       "0  317312                La-Union Integrated HS   Cabadbaran City   \n",
       "1  304690                          Lingayao NHS  Agusan Del Norte   \n",
       "2  304689                        Las Nieves NHS  Agusan Del Norte   \n",
       "3  317310  E. G. Montilla NHS (Mat-I NHS Annex)  Agusan Del Norte   \n",
       "4  317311     Balangbalang NHS (Agay NHS Annex)  Agusan Del Norte   \n",
       "\n",
       "  DivisionCode          Province     MunicipalityORCity  Clusters  Region  \\\n",
       "0          R10  AGUSAN DEL NORTE     CITY OF CABADBARAN         4  CARAGA   \n",
       "1          R01  AGUSAN DEL NORTE             LAS NIEVES         5  CARAGA   \n",
       "2          R01  AGUSAN DEL NORTE             LAS NIEVES         3  CARAGA   \n",
       "3          R01  AGUSAN DEL NORTE             LAS NIEVES         5  CARAGA   \n",
       "4          R01  AGUSAN DEL NORTE  REMEDIOS T. ROMUALDEZ         4  CARAGA   \n",
       "\n",
       "   Filipino  AralinP  ...  Enrolled  Teachers      Ratio  Energized  \\\n",
       "0   58.8889  43.2184  ...       266        10  27.000000          1   \n",
       "1   80.2000  71.3667  ...       273        11  24.818182          1   \n",
       "2   71.1937  66.0586  ...       748        42  17.809524          1   \n",
       "3   68.6054  64.0136  ...       511        27  19.000000          1   \n",
       "4   72.9398  69.4213  ...       511        27  19.000000          1   \n",
       "\n",
       "                     SchoolType   PBOR  PovertyCluster  PovertyIncidence  \\\n",
       "0  Annex or Extension school(s)  12911               2                28   \n",
       "1        School with no Annexes  12911               2                28   \n",
       "2        School with no Annexes  12911               2                28   \n",
       "3  Annex or Extension school(s)  12911               2                28   \n",
       "4  Annex or Extension school(s)  12911               2                28   \n",
       "\n",
       "   LowerLimit  UpperLimit  \n",
       "0          20          72  \n",
       "1          20          72  \n",
       "2          20          72  \n",
       "3          20          72  \n",
       "4          20          72  \n",
       "\n",
       "[5 rows x 28 columns]"
      ]
     },
     "execution_count": 4,
     "metadata": {},
     "output_type": "execute_result"
    }
   ],
   "source": [
    "data.head()"
   ]
  },
  {
   "cell_type": "code",
   "execution_count": 5,
   "metadata": {},
   "outputs": [
    {
     "data": {
      "text/plain": [
       "Index([u'SchID', u'SchName', u'DivisionName', u'DivisionCode', u'Province',\n",
       "       u'MunicipalityORCity', u'Clusters', u'Region', u'Filipino', u'AralinP',\n",
       "       u'Mathematics', u'Science', u'English', u'CriticalThinking', u'Overall',\n",
       "       u'Internet', u'Lat', u'Long', u'Enrolled', u'Teachers', u'Ratio',\n",
       "       u'Energized', u'SchoolType', u'PBOR', u'PovertyCluster',\n",
       "       u'PovertyIncidence', u'LowerLimit', u'UpperLimit'],\n",
       "      dtype='object')"
      ]
     },
     "execution_count": 5,
     "metadata": {},
     "output_type": "execute_result"
    }
   ],
   "source": [
    "data.columns"
   ]
  },
  {
   "cell_type": "code",
   "execution_count": 6,
   "metadata": {},
   "outputs": [
    {
     "data": {
      "text/html": [
       "<div>\n",
       "<style scoped>\n",
       "    .dataframe tbody tr th:only-of-type {\n",
       "        vertical-align: middle;\n",
       "    }\n",
       "\n",
       "    .dataframe tbody tr th {\n",
       "        vertical-align: top;\n",
       "    }\n",
       "\n",
       "    .dataframe thead th {\n",
       "        text-align: right;\n",
       "    }\n",
       "</style>\n",
       "<table border=\"1\" class=\"dataframe\">\n",
       "  <thead>\n",
       "    <tr style=\"text-align: right;\">\n",
       "      <th></th>\n",
       "      <th>SchID</th>\n",
       "      <th>SchName</th>\n",
       "      <th>DivisionName</th>\n",
       "      <th>DivisionCode</th>\n",
       "      <th>Province</th>\n",
       "      <th>MunicipalityORCity</th>\n",
       "      <th>Clusters</th>\n",
       "      <th>Region</th>\n",
       "      <th>Filipino</th>\n",
       "      <th>AralinP</th>\n",
       "      <th>...</th>\n",
       "      <th>Enrolled</th>\n",
       "      <th>Teachers</th>\n",
       "      <th>Ratio</th>\n",
       "      <th>Energized</th>\n",
       "      <th>SchoolType</th>\n",
       "      <th>PBOR</th>\n",
       "      <th>PovertyCluster</th>\n",
       "      <th>PovertyIncidence</th>\n",
       "      <th>LowerLimit</th>\n",
       "      <th>UpperLimit</th>\n",
       "    </tr>\n",
       "  </thead>\n",
       "  <tbody>\n",
       "    <tr>\n",
       "      <th>count</th>\n",
       "      <td>736.000000</td>\n",
       "      <td>736</td>\n",
       "      <td>736</td>\n",
       "      <td>736</td>\n",
       "      <td>736</td>\n",
       "      <td>736</td>\n",
       "      <td>736.000000</td>\n",
       "      <td>736</td>\n",
       "      <td>736.000000</td>\n",
       "      <td>736.000000</td>\n",
       "      <td>...</td>\n",
       "      <td>736.000000</td>\n",
       "      <td>736.000000</td>\n",
       "      <td>736.000000</td>\n",
       "      <td>736.000000</td>\n",
       "      <td>736</td>\n",
       "      <td>736.000000</td>\n",
       "      <td>736.000000</td>\n",
       "      <td>736.000000</td>\n",
       "      <td>736.000000</td>\n",
       "      <td>736.000000</td>\n",
       "    </tr>\n",
       "    <tr>\n",
       "      <th>unique</th>\n",
       "      <td>NaN</td>\n",
       "      <td>715</td>\n",
       "      <td>164</td>\n",
       "      <td>165</td>\n",
       "      <td>82</td>\n",
       "      <td>526</td>\n",
       "      <td>NaN</td>\n",
       "      <td>17</td>\n",
       "      <td>NaN</td>\n",
       "      <td>NaN</td>\n",
       "      <td>...</td>\n",
       "      <td>NaN</td>\n",
       "      <td>NaN</td>\n",
       "      <td>NaN</td>\n",
       "      <td>NaN</td>\n",
       "      <td>3</td>\n",
       "      <td>NaN</td>\n",
       "      <td>NaN</td>\n",
       "      <td>NaN</td>\n",
       "      <td>NaN</td>\n",
       "      <td>NaN</td>\n",
       "    </tr>\n",
       "    <tr>\n",
       "      <th>top</th>\n",
       "      <td>NaN</td>\n",
       "      <td>Libertad NHS</td>\n",
       "      <td>Cebu</td>\n",
       "      <td>G02</td>\n",
       "      <td>CEBU</td>\n",
       "      <td>CEBU CITY (Capital)</td>\n",
       "      <td>NaN</td>\n",
       "      <td>VII</td>\n",
       "      <td>NaN</td>\n",
       "      <td>NaN</td>\n",
       "      <td>...</td>\n",
       "      <td>NaN</td>\n",
       "      <td>NaN</td>\n",
       "      <td>NaN</td>\n",
       "      <td>NaN</td>\n",
       "      <td>School with no Annexes</td>\n",
       "      <td>NaN</td>\n",
       "      <td>NaN</td>\n",
       "      <td>NaN</td>\n",
       "      <td>NaN</td>\n",
       "      <td>NaN</td>\n",
       "    </tr>\n",
       "    <tr>\n",
       "      <th>freq</th>\n",
       "      <td>NaN</td>\n",
       "      <td>3</td>\n",
       "      <td>27</td>\n",
       "      <td>27</td>\n",
       "      <td>50</td>\n",
       "      <td>6</td>\n",
       "      <td>NaN</td>\n",
       "      <td>85</td>\n",
       "      <td>NaN</td>\n",
       "      <td>NaN</td>\n",
       "      <td>...</td>\n",
       "      <td>NaN</td>\n",
       "      <td>NaN</td>\n",
       "      <td>NaN</td>\n",
       "      <td>NaN</td>\n",
       "      <td>515</td>\n",
       "      <td>NaN</td>\n",
       "      <td>NaN</td>\n",
       "      <td>NaN</td>\n",
       "      <td>NaN</td>\n",
       "      <td>NaN</td>\n",
       "    </tr>\n",
       "    <tr>\n",
       "      <th>mean</th>\n",
       "      <td>304827.574728</td>\n",
       "      <td>NaN</td>\n",
       "      <td>NaN</td>\n",
       "      <td>NaN</td>\n",
       "      <td>NaN</td>\n",
       "      <td>NaN</td>\n",
       "      <td>3.517663</td>\n",
       "      <td>NaN</td>\n",
       "      <td>60.037934</td>\n",
       "      <td>50.047568</td>\n",
       "      <td>...</td>\n",
       "      <td>895.637228</td>\n",
       "      <td>31.554348</td>\n",
       "      <td>36.274719</td>\n",
       "      <td>0.966033</td>\n",
       "      <td>NaN</td>\n",
       "      <td>11705.804348</td>\n",
       "      <td>3.024457</td>\n",
       "      <td>21.790761</td>\n",
       "      <td>15.869565</td>\n",
       "      <td>27.425272</td>\n",
       "    </tr>\n",
       "    <tr>\n",
       "      <th>std</th>\n",
       "      <td>13912.412857</td>\n",
       "      <td>NaN</td>\n",
       "      <td>NaN</td>\n",
       "      <td>NaN</td>\n",
       "      <td>NaN</td>\n",
       "      <td>NaN</td>\n",
       "      <td>1.296657</td>\n",
       "      <td>NaN</td>\n",
       "      <td>8.271743</td>\n",
       "      <td>9.314163</td>\n",
       "      <td>...</td>\n",
       "      <td>1134.643652</td>\n",
       "      <td>40.678093</td>\n",
       "      <td>70.782824</td>\n",
       "      <td>0.181268</td>\n",
       "      <td>NaN</td>\n",
       "      <td>2789.108511</td>\n",
       "      <td>1.261443</td>\n",
       "      <td>13.480537</td>\n",
       "      <td>11.235723</td>\n",
       "      <td>16.372363</td>\n",
       "    </tr>\n",
       "    <tr>\n",
       "      <th>min</th>\n",
       "      <td>100189.000000</td>\n",
       "      <td>NaN</td>\n",
       "      <td>NaN</td>\n",
       "      <td>NaN</td>\n",
       "      <td>NaN</td>\n",
       "      <td>NaN</td>\n",
       "      <td>1.000000</td>\n",
       "      <td>NaN</td>\n",
       "      <td>29.878600</td>\n",
       "      <td>27.741900</td>\n",
       "      <td>...</td>\n",
       "      <td>60.000000</td>\n",
       "      <td>1.000000</td>\n",
       "      <td>5.836364</td>\n",
       "      <td>0.000000</td>\n",
       "      <td>NaN</td>\n",
       "      <td>672.000000</td>\n",
       "      <td>1.000000</td>\n",
       "      <td>0.000000</td>\n",
       "      <td>0.000000</td>\n",
       "      <td>0.000000</td>\n",
       "    </tr>\n",
       "    <tr>\n",
       "      <th>25%</th>\n",
       "      <td>301973.750000</td>\n",
       "      <td>NaN</td>\n",
       "      <td>NaN</td>\n",
       "      <td>NaN</td>\n",
       "      <td>NaN</td>\n",
       "      <td>NaN</td>\n",
       "      <td>3.000000</td>\n",
       "      <td>NaN</td>\n",
       "      <td>54.971550</td>\n",
       "      <td>43.422225</td>\n",
       "      <td>...</td>\n",
       "      <td>290.000000</td>\n",
       "      <td>10.000000</td>\n",
       "      <td>24.425595</td>\n",
       "      <td>1.000000</td>\n",
       "      <td>NaN</td>\n",
       "      <td>10751.000000</td>\n",
       "      <td>2.000000</td>\n",
       "      <td>12.000000</td>\n",
       "      <td>9.000000</td>\n",
       "      <td>16.000000</td>\n",
       "    </tr>\n",
       "    <tr>\n",
       "      <th>50%</th>\n",
       "      <td>303663.500000</td>\n",
       "      <td>NaN</td>\n",
       "      <td>NaN</td>\n",
       "      <td>NaN</td>\n",
       "      <td>NaN</td>\n",
       "      <td>NaN</td>\n",
       "      <td>4.000000</td>\n",
       "      <td>NaN</td>\n",
       "      <td>59.420050</td>\n",
       "      <td>49.070250</td>\n",
       "      <td>...</td>\n",
       "      <td>508.000000</td>\n",
       "      <td>18.000000</td>\n",
       "      <td>27.094697</td>\n",
       "      <td>1.000000</td>\n",
       "      <td>NaN</td>\n",
       "      <td>11751.000000</td>\n",
       "      <td>3.000000</td>\n",
       "      <td>19.000000</td>\n",
       "      <td>14.000000</td>\n",
       "      <td>24.000000</td>\n",
       "    </tr>\n",
       "    <tr>\n",
       "      <th>75%</th>\n",
       "      <td>306035.750000</td>\n",
       "      <td>NaN</td>\n",
       "      <td>NaN</td>\n",
       "      <td>NaN</td>\n",
       "      <td>NaN</td>\n",
       "      <td>NaN</td>\n",
       "      <td>5.000000</td>\n",
       "      <td>NaN</td>\n",
       "      <td>65.438650</td>\n",
       "      <td>55.445475</td>\n",
       "      <td>...</td>\n",
       "      <td>973.250000</td>\n",
       "      <td>34.000000</td>\n",
       "      <td>31.000000</td>\n",
       "      <td>1.000000</td>\n",
       "      <td>NaN</td>\n",
       "      <td>12911.000000</td>\n",
       "      <td>4.000000</td>\n",
       "      <td>30.000000</td>\n",
       "      <td>21.000000</td>\n",
       "      <td>40.000000</td>\n",
       "    </tr>\n",
       "    <tr>\n",
       "      <th>max</th>\n",
       "      <td>326001.000000</td>\n",
       "      <td>NaN</td>\n",
       "      <td>NaN</td>\n",
       "      <td>NaN</td>\n",
       "      <td>NaN</td>\n",
       "      <td>NaN</td>\n",
       "      <td>6.000000</td>\n",
       "      <td>NaN</td>\n",
       "      <td>84.148100</td>\n",
       "      <td>82.922400</td>\n",
       "      <td>...</td>\n",
       "      <td>9907.000000</td>\n",
       "      <td>338.000000</td>\n",
       "      <td>1736.000000</td>\n",
       "      <td>1.000000</td>\n",
       "      <td>NaN</td>\n",
       "      <td>17864.000000</td>\n",
       "      <td>5.000000</td>\n",
       "      <td>66.000000</td>\n",
       "      <td>61.000000</td>\n",
       "      <td>72.000000</td>\n",
       "    </tr>\n",
       "  </tbody>\n",
       "</table>\n",
       "<p>11 rows × 28 columns</p>\n",
       "</div>"
      ],
      "text/plain": [
       "                SchID       SchName DivisionName DivisionCode Province  \\\n",
       "count      736.000000           736          736          736      736   \n",
       "unique            NaN           715          164          165       82   \n",
       "top               NaN  Libertad NHS         Cebu          G02     CEBU   \n",
       "freq              NaN             3           27           27       50   \n",
       "mean    304827.574728           NaN          NaN          NaN      NaN   \n",
       "std      13912.412857           NaN          NaN          NaN      NaN   \n",
       "min     100189.000000           NaN          NaN          NaN      NaN   \n",
       "25%     301973.750000           NaN          NaN          NaN      NaN   \n",
       "50%     303663.500000           NaN          NaN          NaN      NaN   \n",
       "75%     306035.750000           NaN          NaN          NaN      NaN   \n",
       "max     326001.000000           NaN          NaN          NaN      NaN   \n",
       "\n",
       "         MunicipalityORCity    Clusters Region    Filipino     AralinP  ...  \\\n",
       "count                   736  736.000000    736  736.000000  736.000000  ...   \n",
       "unique                  526         NaN     17         NaN         NaN  ...   \n",
       "top     CEBU CITY (Capital)         NaN    VII         NaN         NaN  ...   \n",
       "freq                      6         NaN     85         NaN         NaN  ...   \n",
       "mean                    NaN    3.517663    NaN   60.037934   50.047568  ...   \n",
       "std                     NaN    1.296657    NaN    8.271743    9.314163  ...   \n",
       "min                     NaN    1.000000    NaN   29.878600   27.741900  ...   \n",
       "25%                     NaN    3.000000    NaN   54.971550   43.422225  ...   \n",
       "50%                     NaN    4.000000    NaN   59.420050   49.070250  ...   \n",
       "75%                     NaN    5.000000    NaN   65.438650   55.445475  ...   \n",
       "max                     NaN    6.000000    NaN   84.148100   82.922400  ...   \n",
       "\n",
       "           Enrolled    Teachers        Ratio   Energized  \\\n",
       "count    736.000000  736.000000   736.000000  736.000000   \n",
       "unique          NaN         NaN          NaN         NaN   \n",
       "top             NaN         NaN          NaN         NaN   \n",
       "freq            NaN         NaN          NaN         NaN   \n",
       "mean     895.637228   31.554348    36.274719    0.966033   \n",
       "std     1134.643652   40.678093    70.782824    0.181268   \n",
       "min       60.000000    1.000000     5.836364    0.000000   \n",
       "25%      290.000000   10.000000    24.425595    1.000000   \n",
       "50%      508.000000   18.000000    27.094697    1.000000   \n",
       "75%      973.250000   34.000000    31.000000    1.000000   \n",
       "max     9907.000000  338.000000  1736.000000    1.000000   \n",
       "\n",
       "                    SchoolType          PBOR  PovertyCluster  \\\n",
       "count                      736    736.000000      736.000000   \n",
       "unique                       3           NaN             NaN   \n",
       "top     School with no Annexes           NaN             NaN   \n",
       "freq                       515           NaN             NaN   \n",
       "mean                       NaN  11705.804348        3.024457   \n",
       "std                        NaN   2789.108511        1.261443   \n",
       "min                        NaN    672.000000        1.000000   \n",
       "25%                        NaN  10751.000000        2.000000   \n",
       "50%                        NaN  11751.000000        3.000000   \n",
       "75%                        NaN  12911.000000        4.000000   \n",
       "max                        NaN  17864.000000        5.000000   \n",
       "\n",
       "        PovertyIncidence  LowerLimit  UpperLimit  \n",
       "count         736.000000  736.000000  736.000000  \n",
       "unique               NaN         NaN         NaN  \n",
       "top                  NaN         NaN         NaN  \n",
       "freq                 NaN         NaN         NaN  \n",
       "mean           21.790761   15.869565   27.425272  \n",
       "std            13.480537   11.235723   16.372363  \n",
       "min             0.000000    0.000000    0.000000  \n",
       "25%            12.000000    9.000000   16.000000  \n",
       "50%            19.000000   14.000000   24.000000  \n",
       "75%            30.000000   21.000000   40.000000  \n",
       "max            66.000000   61.000000   72.000000  \n",
       "\n",
       "[11 rows x 28 columns]"
      ]
     },
     "execution_count": 6,
     "metadata": {},
     "output_type": "execute_result"
    }
   ],
   "source": [
    "data.describe(include='all')"
   ]
  },
  {
   "cell_type": "code",
   "execution_count": 7,
   "metadata": {},
   "outputs": [
    {
     "name": "stdout",
     "output_type": "stream",
     "text": [
      "<class 'pandas.core.frame.DataFrame'>\n",
      "RangeIndex: 736 entries, 0 to 735\n",
      "Data columns (total 28 columns):\n",
      "SchID                 736 non-null int64\n",
      "SchName               736 non-null object\n",
      "DivisionName          736 non-null object\n",
      "DivisionCode          736 non-null object\n",
      "Province              736 non-null object\n",
      "MunicipalityORCity    736 non-null object\n",
      "Clusters              736 non-null int64\n",
      "Region                736 non-null object\n",
      "Filipino              736 non-null float64\n",
      "AralinP               736 non-null float64\n",
      "Mathematics           736 non-null float64\n",
      "Science               736 non-null float64\n",
      "English               736 non-null float64\n",
      "CriticalThinking      736 non-null float64\n",
      "Overall               736 non-null float64\n",
      "Internet              736 non-null int64\n",
      "Lat                   736 non-null float64\n",
      "Long                  736 non-null float64\n",
      "Enrolled              736 non-null int64\n",
      "Teachers              736 non-null int64\n",
      "Ratio                 736 non-null float64\n",
      "Energized             736 non-null int64\n",
      "SchoolType            736 non-null object\n",
      "PBOR                  736 non-null int64\n",
      "PovertyCluster        736 non-null int64\n",
      "PovertyIncidence      736 non-null int64\n",
      "LowerLimit            736 non-null int64\n",
      "UpperLimit            736 non-null int64\n",
      "dtypes: float64(10), int64(11), object(7)\n",
      "memory usage: 161.1+ KB\n"
     ]
    }
   ],
   "source": [
    "data.info()"
   ]
  },
  {
   "cell_type": "code",
   "execution_count": 8,
   "metadata": {},
   "outputs": [],
   "source": [
    "data['Reg'] = data['Region'].astype('category')"
   ]
  },
  {
   "cell_type": "code",
   "execution_count": 9,
   "metadata": {},
   "outputs": [],
   "source": [
    "data['SType'] = data['SchoolType'].astype('category')"
   ]
  },
  {
   "cell_type": "code",
   "execution_count": 10,
   "metadata": {},
   "outputs": [],
   "source": [
    "bins = [0, 65, 100]\n",
    "data['Average'] = np.searchsorted(bins, data['Overall'].values)"
   ]
  },
  {
   "cell_type": "code",
   "execution_count": 11,
   "metadata": {},
   "outputs": [],
   "source": [
    "data.Region = pd.Categorical(data.Region)\n",
    "data['Reg'] = data.Region.cat.codes"
   ]
  },
  {
   "cell_type": "code",
   "execution_count": 12,
   "metadata": {},
   "outputs": [],
   "source": [
    "data.SchoolType = pd.Categorical(data.SchoolType)\n",
    "data['SType'] = data.SchoolType.cat.codes"
   ]
  },
  {
   "cell_type": "code",
   "execution_count": 14,
   "metadata": {},
   "outputs": [],
   "source": [
    "data.DivisionName = pd.Categorical(data.DivisionName)\n",
    "data['Div'] = data.DivisionName.cat.codes"
   ]
  },
  {
   "cell_type": "code",
   "execution_count": 18,
   "metadata": {},
   "outputs": [],
   "source": [
    "df = data.drop(['Province', 'MunicipalityORCity', 'PovertyCluster', 'LowerLimit', 'UpperLimit', 'Div', 'Mathematics', 'Filipino', 'CriticalThinking', 'AralinP', 'Science', 'English', 'Overall', 'DivisionName', 'Region', 'SchoolType', 'SchID', 'SchName', 'Clusters', 'DivisionCode','Lat', 'Long', 'Enrolled', 'Teachers'], axis=1)"
   ]
  },
  {
   "cell_type": "code",
   "execution_count": 19,
   "metadata": {},
   "outputs": [
    {
     "data": {
      "text/html": [
       "<div>\n",
       "<style scoped>\n",
       "    .dataframe tbody tr th:only-of-type {\n",
       "        vertical-align: middle;\n",
       "    }\n",
       "\n",
       "    .dataframe tbody tr th {\n",
       "        vertical-align: top;\n",
       "    }\n",
       "\n",
       "    .dataframe thead th {\n",
       "        text-align: right;\n",
       "    }\n",
       "</style>\n",
       "<table border=\"1\" class=\"dataframe\">\n",
       "  <thead>\n",
       "    <tr style=\"text-align: right;\">\n",
       "      <th></th>\n",
       "      <th>Internet</th>\n",
       "      <th>Ratio</th>\n",
       "      <th>Energized</th>\n",
       "      <th>PBOR</th>\n",
       "      <th>PovertyIncidence</th>\n",
       "      <th>Reg</th>\n",
       "      <th>SType</th>\n",
       "      <th>Average</th>\n",
       "    </tr>\n",
       "  </thead>\n",
       "  <tbody>\n",
       "    <tr>\n",
       "      <th>0</th>\n",
       "      <td>0</td>\n",
       "      <td>27.000000</td>\n",
       "      <td>1</td>\n",
       "      <td>12911</td>\n",
       "      <td>28</td>\n",
       "      <td>2</td>\n",
       "      <td>0</td>\n",
       "      <td>1</td>\n",
       "    </tr>\n",
       "    <tr>\n",
       "      <th>1</th>\n",
       "      <td>0</td>\n",
       "      <td>24.818182</td>\n",
       "      <td>1</td>\n",
       "      <td>12911</td>\n",
       "      <td>28</td>\n",
       "      <td>2</td>\n",
       "      <td>2</td>\n",
       "      <td>2</td>\n",
       "    </tr>\n",
       "    <tr>\n",
       "      <th>2</th>\n",
       "      <td>1</td>\n",
       "      <td>17.809524</td>\n",
       "      <td>1</td>\n",
       "      <td>12911</td>\n",
       "      <td>28</td>\n",
       "      <td>2</td>\n",
       "      <td>2</td>\n",
       "      <td>2</td>\n",
       "    </tr>\n",
       "    <tr>\n",
       "      <th>3</th>\n",
       "      <td>1</td>\n",
       "      <td>19.000000</td>\n",
       "      <td>1</td>\n",
       "      <td>12911</td>\n",
       "      <td>28</td>\n",
       "      <td>2</td>\n",
       "      <td>0</td>\n",
       "      <td>1</td>\n",
       "    </tr>\n",
       "    <tr>\n",
       "      <th>4</th>\n",
       "      <td>0</td>\n",
       "      <td>19.000000</td>\n",
       "      <td>1</td>\n",
       "      <td>12911</td>\n",
       "      <td>28</td>\n",
       "      <td>2</td>\n",
       "      <td>0</td>\n",
       "      <td>2</td>\n",
       "    </tr>\n",
       "  </tbody>\n",
       "</table>\n",
       "</div>"
      ],
      "text/plain": [
       "   Internet      Ratio  Energized   PBOR  PovertyIncidence  Reg  SType  \\\n",
       "0         0  27.000000          1  12911                28    2      0   \n",
       "1         0  24.818182          1  12911                28    2      2   \n",
       "2         1  17.809524          1  12911                28    2      2   \n",
       "3         1  19.000000          1  12911                28    2      0   \n",
       "4         0  19.000000          1  12911                28    2      0   \n",
       "\n",
       "   Average  \n",
       "0        1  \n",
       "1        2  \n",
       "2        2  \n",
       "3        1  \n",
       "4        2  "
      ]
     },
     "execution_count": 19,
     "metadata": {},
     "output_type": "execute_result"
    }
   ],
   "source": [
    "df.head()"
   ]
  },
  {
   "cell_type": "code",
   "execution_count": 20,
   "metadata": {},
   "outputs": [
    {
     "name": "stdout",
     "output_type": "stream",
     "text": [
      "<class 'pandas.core.frame.DataFrame'>\n",
      "RangeIndex: 736 entries, 0 to 735\n",
      "Data columns (total 8 columns):\n",
      "Internet            736 non-null int64\n",
      "Ratio               736 non-null float64\n",
      "Energized           736 non-null int64\n",
      "PBOR                736 non-null int64\n",
      "PovertyIncidence    736 non-null int64\n",
      "Reg                 736 non-null int8\n",
      "SType               736 non-null int8\n",
      "Average             736 non-null int64\n",
      "dtypes: float64(1), int64(5), int8(2)\n",
      "memory usage: 36.0 KB\n"
     ]
    }
   ],
   "source": [
    "df.info()"
   ]
  },
  {
   "cell_type": "code",
   "execution_count": 21,
   "metadata": {},
   "outputs": [
    {
     "data": {
      "text/html": [
       "<div>\n",
       "<style scoped>\n",
       "    .dataframe tbody tr th:only-of-type {\n",
       "        vertical-align: middle;\n",
       "    }\n",
       "\n",
       "    .dataframe tbody tr th {\n",
       "        vertical-align: top;\n",
       "    }\n",
       "\n",
       "    .dataframe thead th {\n",
       "        text-align: right;\n",
       "    }\n",
       "</style>\n",
       "<table border=\"1\" class=\"dataframe\">\n",
       "  <thead>\n",
       "    <tr style=\"text-align: right;\">\n",
       "      <th></th>\n",
       "      <th>Internet</th>\n",
       "      <th>Ratio</th>\n",
       "      <th>Energized</th>\n",
       "      <th>PBOR</th>\n",
       "      <th>PovertyIncidence</th>\n",
       "      <th>Reg</th>\n",
       "      <th>SType</th>\n",
       "      <th>Average</th>\n",
       "    </tr>\n",
       "  </thead>\n",
       "  <tbody>\n",
       "    <tr>\n",
       "      <th>count</th>\n",
       "      <td>736.000000</td>\n",
       "      <td>736.000000</td>\n",
       "      <td>736.000000</td>\n",
       "      <td>736.000000</td>\n",
       "      <td>736.000000</td>\n",
       "      <td>736.000000</td>\n",
       "      <td>736.000000</td>\n",
       "      <td>736.000000</td>\n",
       "    </tr>\n",
       "    <tr>\n",
       "      <th>mean</th>\n",
       "      <td>0.730978</td>\n",
       "      <td>36.274719</td>\n",
       "      <td>0.966033</td>\n",
       "      <td>11705.804348</td>\n",
       "      <td>21.790761</td>\n",
       "      <td>8.457880</td>\n",
       "      <td>1.551630</td>\n",
       "      <td>1.119565</td>\n",
       "    </tr>\n",
       "    <tr>\n",
       "      <th>std</th>\n",
       "      <td>0.443753</td>\n",
       "      <td>70.782824</td>\n",
       "      <td>0.181268</td>\n",
       "      <td>2789.108511</td>\n",
       "      <td>13.480537</td>\n",
       "      <td>4.572425</td>\n",
       "      <td>0.737746</td>\n",
       "      <td>0.324673</td>\n",
       "    </tr>\n",
       "    <tr>\n",
       "      <th>min</th>\n",
       "      <td>0.000000</td>\n",
       "      <td>5.836364</td>\n",
       "      <td>0.000000</td>\n",
       "      <td>672.000000</td>\n",
       "      <td>0.000000</td>\n",
       "      <td>0.000000</td>\n",
       "      <td>0.000000</td>\n",
       "      <td>1.000000</td>\n",
       "    </tr>\n",
       "    <tr>\n",
       "      <th>25%</th>\n",
       "      <td>0.000000</td>\n",
       "      <td>24.425595</td>\n",
       "      <td>1.000000</td>\n",
       "      <td>10751.000000</td>\n",
       "      <td>12.000000</td>\n",
       "      <td>5.000000</td>\n",
       "      <td>1.000000</td>\n",
       "      <td>1.000000</td>\n",
       "    </tr>\n",
       "    <tr>\n",
       "      <th>50%</th>\n",
       "      <td>1.000000</td>\n",
       "      <td>27.094697</td>\n",
       "      <td>1.000000</td>\n",
       "      <td>11751.000000</td>\n",
       "      <td>19.000000</td>\n",
       "      <td>9.000000</td>\n",
       "      <td>2.000000</td>\n",
       "      <td>1.000000</td>\n",
       "    </tr>\n",
       "    <tr>\n",
       "      <th>75%</th>\n",
       "      <td>1.000000</td>\n",
       "      <td>31.000000</td>\n",
       "      <td>1.000000</td>\n",
       "      <td>12911.000000</td>\n",
       "      <td>30.000000</td>\n",
       "      <td>12.000000</td>\n",
       "      <td>2.000000</td>\n",
       "      <td>1.000000</td>\n",
       "    </tr>\n",
       "    <tr>\n",
       "      <th>max</th>\n",
       "      <td>1.000000</td>\n",
       "      <td>1736.000000</td>\n",
       "      <td>1.000000</td>\n",
       "      <td>17864.000000</td>\n",
       "      <td>66.000000</td>\n",
       "      <td>16.000000</td>\n",
       "      <td>2.000000</td>\n",
       "      <td>2.000000</td>\n",
       "    </tr>\n",
       "  </tbody>\n",
       "</table>\n",
       "</div>"
      ],
      "text/plain": [
       "         Internet        Ratio   Energized          PBOR  PovertyIncidence  \\\n",
       "count  736.000000   736.000000  736.000000    736.000000        736.000000   \n",
       "mean     0.730978    36.274719    0.966033  11705.804348         21.790761   \n",
       "std      0.443753    70.782824    0.181268   2789.108511         13.480537   \n",
       "min      0.000000     5.836364    0.000000    672.000000          0.000000   \n",
       "25%      0.000000    24.425595    1.000000  10751.000000         12.000000   \n",
       "50%      1.000000    27.094697    1.000000  11751.000000         19.000000   \n",
       "75%      1.000000    31.000000    1.000000  12911.000000         30.000000   \n",
       "max      1.000000  1736.000000    1.000000  17864.000000         66.000000   \n",
       "\n",
       "              Reg       SType     Average  \n",
       "count  736.000000  736.000000  736.000000  \n",
       "mean     8.457880    1.551630    1.119565  \n",
       "std      4.572425    0.737746    0.324673  \n",
       "min      0.000000    0.000000    1.000000  \n",
       "25%      5.000000    1.000000    1.000000  \n",
       "50%      9.000000    2.000000    1.000000  \n",
       "75%     12.000000    2.000000    1.000000  \n",
       "max     16.000000    2.000000    2.000000  "
      ]
     },
     "execution_count": 21,
     "metadata": {},
     "output_type": "execute_result"
    }
   ],
   "source": [
    "df.describe()"
   ]
  },
  {
   "cell_type": "code",
   "execution_count": 22,
   "metadata": {},
   "outputs": [],
   "source": [
    "X = df.drop('Average', axis=1) #independent columns\n",
    "y = df['Average']              #target column i.e price range   "
   ]
  },
  {
   "cell_type": "code",
   "execution_count": 23,
   "metadata": {},
   "outputs": [
    {
     "name": "stdout",
     "output_type": "stream",
     "text": [
      "              Specs        Score\n",
      "3              PBOR  2838.614416\n",
      "4  PovertyIncidence   198.849396\n",
      "1             Ratio     6.123397\n",
      "2         Energized     0.119376\n",
      "6             SType     0.104446\n"
     ]
    }
   ],
   "source": [
    "#apply SelectKBest class to extract top 10 best features\n",
    "bestfeatures = SelectKBest(score_func=chi2, k=5)\n",
    "fit = bestfeatures.fit(X,y)\n",
    "dfscores = pd.DataFrame(fit.scores_)\n",
    "dfcolumns = pd.DataFrame(X.columns)\n",
    "#concat two dataframes for better visualization \n",
    "featureScores = pd.concat([dfcolumns,dfscores],axis=1)\n",
    "featureScores.columns = ['Specs','Score']  #naming the dataframe columns\n",
    "print(featureScores.nlargest(5,'Score'))  #print 10 best features"
   ]
  },
  {
   "cell_type": "markdown",
   "metadata": {},
   "source": [
    "## Feature Importance"
   ]
  },
  {
   "cell_type": "code",
   "execution_count": 24,
   "metadata": {},
   "outputs": [
    {
     "name": "stderr",
     "output_type": "stream",
     "text": [
      "/Users/EsaNavarro/anaconda2/lib/python2.7/site-packages/sklearn/ensemble/forest.py:246: FutureWarning: The default value of n_estimators will change from 10 in version 0.20 to 100 in 0.22.\n",
      "  \"10 in version 0.20 to 100 in 0.22.\", FutureWarning)\n"
     ]
    },
    {
     "name": "stdout",
     "output_type": "stream",
     "text": [
      "[0.02669925 0.56530644 0.00475908 0.07624362 0.21015447 0.07258485\n",
      " 0.04425229]\n"
     ]
    },
    {
     "data": {
      "image/png": "[encoded data removed]",
      "text/plain": [
       "<Figure size 432x288 with 1 Axes>"
      ]
     },
     "metadata": {
      "needs_background": "light"
     },
     "output_type": "display_data"
    }
   ],
   "source": [
    "model = ExtraTreesClassifier()\n",
    "model.fit(X,y)\n",
    "print(model.feature_importances_) #use inbuilt class feature_importances of tree based classifiers\n",
    "#plot graph of feature importances for better visualization\n",
    "feat_importances = pd.Series(model.feature_importances_, index=X.columns)\n",
    "feat_importances.nlargest(10).plot(kind='barh')\n",
    "plt.show()"
   ]
  },
  {
   "cell_type": "markdown",
   "metadata": {},
   "source": [
    "## Correlation Map"
   ]
  },
  {
   "cell_type": "code",
   "execution_count": 25,
   "metadata": {},
   "outputs": [
    {
     "data": {
      "image/png": "[encoded data removed]",
      "text/plain": [
       "<Figure size 1440x1440 with 2 Axes>"
      ]
     },
     "metadata": {
      "needs_background": "light"
     },
     "output_type": "display_data"
    }
   ],
   "source": [
    "corrmat = df.corr()\n",
    "top_corr_features = corrmat.index\n",
    "plt.figure(figsize=(20,20))\n",
    "#plot heat map\n",
    "g=sns.heatmap(data[top_corr_features].corr(),annot=True,cmap=\"RdYlGn\")"
   ]
  },
  {
   "cell_type": "code",
   "execution_count": 26,
   "metadata": {},
   "outputs": [
    {
     "data": {
      "text/html": [
       "<div>\n",
       "<style scoped>\n",
       "    .dataframe tbody tr th:only-of-type {\n",
       "        vertical-align: middle;\n",
       "    }\n",
       "\n",
       "    .dataframe tbody tr th {\n",
       "        vertical-align: top;\n",
       "    }\n",
       "\n",
       "    .dataframe thead th {\n",
       "        text-align: right;\n",
       "    }\n",
       "</style>\n",
       "<table border=\"1\" class=\"dataframe\">\n",
       "  <thead>\n",
       "    <tr style=\"text-align: right;\">\n",
       "      <th></th>\n",
       "      <th>Internet</th>\n",
       "      <th>Ratio</th>\n",
       "      <th>Energized</th>\n",
       "      <th>PBOR</th>\n",
       "      <th>PovertyIncidence</th>\n",
       "      <th>Reg</th>\n",
       "      <th>SType</th>\n",
       "      <th>Average</th>\n",
       "    </tr>\n",
       "  </thead>\n",
       "  <tbody>\n",
       "    <tr>\n",
       "      <th>Internet</th>\n",
       "      <td>1.000000</td>\n",
       "      <td>-0.035976</td>\n",
       "      <td>0.207612</td>\n",
       "      <td>0.075057</td>\n",
       "      <td>-0.263017</td>\n",
       "      <td>0.111752</td>\n",
       "      <td>-0.024009</td>\n",
       "      <td>0.015807</td>\n",
       "    </tr>\n",
       "    <tr>\n",
       "      <th>Ratio</th>\n",
       "      <td>-0.035976</td>\n",
       "      <td>1.000000</td>\n",
       "      <td>0.004975</td>\n",
       "      <td>-0.035358</td>\n",
       "      <td>0.043172</td>\n",
       "      <td>0.015091</td>\n",
       "      <td>-0.261580</td>\n",
       "      <td>-0.007767</td>\n",
       "    </tr>\n",
       "    <tr>\n",
       "      <th>Energized</th>\n",
       "      <td>0.207612</td>\n",
       "      <td>0.004975</td>\n",
       "      <td>1.000000</td>\n",
       "      <td>0.119285</td>\n",
       "      <td>-0.171060</td>\n",
       "      <td>-0.000908</td>\n",
       "      <td>0.038566</td>\n",
       "      <td>0.069102</td>\n",
       "    </tr>\n",
       "    <tr>\n",
       "      <th>PBOR</th>\n",
       "      <td>0.075057</td>\n",
       "      <td>-0.035358</td>\n",
       "      <td>0.119285</td>\n",
       "      <td>1.000000</td>\n",
       "      <td>-0.210073</td>\n",
       "      <td>0.023838</td>\n",
       "      <td>-0.087955</td>\n",
       "      <td>0.076233</td>\n",
       "    </tr>\n",
       "    <tr>\n",
       "      <th>PovertyIncidence</th>\n",
       "      <td>-0.263017</td>\n",
       "      <td>0.043172</td>\n",
       "      <td>-0.171060</td>\n",
       "      <td>-0.210073</td>\n",
       "      <td>1.000000</td>\n",
       "      <td>0.187542</td>\n",
       "      <td>0.007928</td>\n",
       "      <td>0.180114</td>\n",
       "    </tr>\n",
       "    <tr>\n",
       "      <th>Reg</th>\n",
       "      <td>0.111752</td>\n",
       "      <td>0.015091</td>\n",
       "      <td>-0.000908</td>\n",
       "      <td>0.023838</td>\n",
       "      <td>0.187542</td>\n",
       "      <td>1.000000</td>\n",
       "      <td>-0.041099</td>\n",
       "      <td>-0.001185</td>\n",
       "    </tr>\n",
       "    <tr>\n",
       "      <th>SType</th>\n",
       "      <td>-0.024009</td>\n",
       "      <td>-0.261580</td>\n",
       "      <td>0.038566</td>\n",
       "      <td>-0.087955</td>\n",
       "      <td>0.007928</td>\n",
       "      <td>-0.041099</td>\n",
       "      <td>1.000000</td>\n",
       "      <td>-0.020127</td>\n",
       "    </tr>\n",
       "    <tr>\n",
       "      <th>Average</th>\n",
       "      <td>0.015807</td>\n",
       "      <td>-0.007767</td>\n",
       "      <td>0.069102</td>\n",
       "      <td>0.076233</td>\n",
       "      <td>0.180114</td>\n",
       "      <td>-0.001185</td>\n",
       "      <td>-0.020127</td>\n",
       "      <td>1.000000</td>\n",
       "    </tr>\n",
       "  </tbody>\n",
       "</table>\n",
       "</div>"
      ],
      "text/plain": [
       "                  Internet     Ratio  Energized      PBOR  PovertyIncidence  \\\n",
       "Internet          1.000000 -0.035976   0.207612  0.075057         -0.263017   \n",
       "Ratio            -0.035976  1.000000   0.004975 -0.035358          0.043172   \n",
       "Energized         0.207612  0.004975   1.000000  0.119285         -0.171060   \n",
       "PBOR              0.075057 -0.035358   0.119285  1.000000         -0.210073   \n",
       "PovertyIncidence -0.263017  0.043172  -0.171060 -0.210073          1.000000   \n",
       "Reg               0.111752  0.015091  -0.000908  0.023838          0.187542   \n",
       "SType            -0.024009 -0.261580   0.038566 -0.087955          0.007928   \n",
       "Average           0.015807 -0.007767   0.069102  0.076233          0.180114   \n",
       "\n",
       "                       Reg     SType   Average  \n",
       "Internet          0.111752 -0.024009  0.015807  \n",
       "Ratio             0.015091 -0.261580 -0.007767  \n",
       "Energized        -0.000908  0.038566  0.069102  \n",
       "PBOR              0.023838 -0.087955  0.076233  \n",
       "PovertyIncidence  0.187542  0.007928  0.180114  \n",
       "Reg               1.000000 -0.041099 -0.001185  \n",
       "SType            -0.041099  1.000000 -0.020127  \n",
       "Average          -0.001185 -0.020127  1.000000  "
      ]
     },
     "execution_count": 26,
     "metadata": {},
     "output_type": "execute_result"
    }
   ],
   "source": [
    "corrmat"
   ]
  },
  {
   "cell_type": "code",
   "execution_count": 27,
   "metadata": {},
   "outputs": [
    {
     "data": {
      "image/png": "[encoded data removed]",
      "text/plain": [
       "<Figure size 576x720 with 1 Axes>"
      ]
     },
     "metadata": {
      "needs_background": "light"
     },
     "output_type": "display_data"
    }
   ],
   "source": [
    "# Feature sorted by correlation to Overall, from positive to negative\n",
    "corr = corrmat.sort_values('Average', ascending=False)\n",
    "plt.figure(figsize=(8,10))\n",
    "sns.barplot( corr.Average[1:], corr.index[1:], orient='h')\n",
    "plt.show()"
   ]
  },
  {
   "cell_type": "markdown",
   "metadata": {},
   "source": [
    "Correlation is not used in the prediction process, but provides information regarding the direction and strength of the relation between chosen predictors, such as electricity, provincial or regional location, and average class size to educational constructs with academic achievement. In spite of being useful, correlation is not an accurate technique to report if one variable is a good or a bad predictor of another variable. If two variables present a small or non-statistically significant correlation coefficient, it does not necessarily means that one can’t be used to predict the other."
   ]
  },
  {
   "cell_type": "markdown",
   "metadata": {},
   "source": [
    "# Ensemble Model"
   ]
  },
  {
   "cell_type": "markdown",
   "metadata": {},
   "source": [
    "Now we get to the machine learning section. We will start by encoding our categorical variables and splitting the data into a train and test set."
   ]
  },
  {
   "cell_type": "code",
   "execution_count": 28,
   "metadata": {},
   "outputs": [],
   "source": [
    "# Encoding our categorical columns in X\n",
    "labelEncoder = LabelEncoder()\n",
    "cat_columns = X.dtypes.pipe(lambda x: x[x == 'object']).index\n",
    "for col in cat_columns:\n",
    "    X[col] = labelEncoder.fit_transform(X[col])\n",
    "\n",
    "# Train Test Split\n",
    "X_train, X_test, y_train, y_test = train_test_split(X, y, test_size=0.25, random_state=100)"
   ]
  },
  {
   "cell_type": "code",
   "execution_count": 29,
   "metadata": {},
   "outputs": [
    {
     "name": "stdout",
     "output_type": "stream",
     "text": [
      "Results for: Random Forest\n",
      "\n",
      "[[158   7]\n",
      " [ 17   2]]\n",
      "              precision    recall  f1-score   support\n",
      "\n",
      "           1       0.90      0.96      0.93       165\n",
      "           2       0.22      0.11      0.14        19\n",
      "\n",
      "   micro avg       0.87      0.87      0.87       184\n",
      "   macro avg       0.56      0.53      0.54       184\n",
      "weighted avg       0.83      0.87      0.85       184\n",
      "\n",
      "accuracy is 0.8695652173913043\n",
      "\n",
      "\n",
      "\n",
      "Results for: Logistic Regression\n",
      "\n",
      "[[159   6]\n",
      " [ 19   0]]\n",
      "              precision    recall  f1-score   support\n",
      "\n",
      "           1       0.89      0.96      0.93       165\n",
      "           2       0.00      0.00      0.00        19\n",
      "\n",
      "   micro avg       0.86      0.86      0.86       184\n",
      "   macro avg       0.45      0.48      0.46       184\n",
      "weighted avg       0.80      0.86      0.83       184\n",
      "\n",
      "accuracy is 0.8641304347826086\n",
      "\n",
      "\n",
      "\n",
      "Results for: Decision Tree\n",
      "\n",
      "[[144  21]\n",
      " [ 14   5]]\n",
      "              precision    recall  f1-score   support\n",
      "\n",
      "           1       0.91      0.87      0.89       165\n",
      "           2       0.19      0.26      0.22        19\n",
      "\n",
      "   micro avg       0.81      0.81      0.81       184\n",
      "   macro avg       0.55      0.57      0.56       184\n",
      "weighted avg       0.84      0.81      0.82       184\n",
      "\n",
      "accuracy is 0.8097826086956522\n",
      "\n",
      "\n",
      "\n",
      "   accuracy score                model\n",
      "0        0.869565        Random Forest\n",
      "1        0.864130  Logistic Regression\n",
      "2        0.809783        Decision Tree\n"
     ]
    },
    {
     "name": "stderr",
     "output_type": "stream",
     "text": [
      "/Users/EsaNavarro/anaconda2/lib/python2.7/site-packages/sklearn/linear_model/logistic.py:433: FutureWarning: Default solver will be changed to 'lbfgs' in 0.22. Specify a solver to silence this warning.\n",
      "  FutureWarning)\n"
     ]
    }
   ],
   "source": [
    "# Logistic Regression as baseline, then exploring tree-based methods\n",
    "\n",
    "keys = []\n",
    "scores = []\n",
    "models = {'Logistic Regression': LogisticRegression(), 'Decision Tree': DecisionTreeClassifier(),\n",
    "          'Random Forest': RandomForestClassifier(n_estimators=100, random_state=100)}\n",
    "\n",
    "for k,v in models.items():\n",
    "    mod = v\n",
    "    mod.fit(X_train, y_train)\n",
    "    pred = mod.predict(X_test)\n",
    "    print('Results for: ' + str(k) + '\\n')\n",
    "    print(confusion_matrix(y_test, pred))\n",
    "    print(classification_report(y_test, pred))\n",
    "    acc = accuracy_score(y_test, pred)\n",
    "    print(\"accuracy is \"+ str(acc)) \n",
    "    print('\\n' + '\\n')\n",
    "    keys.append(k)\n",
    "    scores.append(acc)\n",
    "    table = pd.DataFrame({'model':keys, 'accuracy score':scores})\n",
    "\n",
    "print(table)"
   ]
  },
  {
   "cell_type": "markdown",
   "metadata": {},
   "source": [
    "The Random Forest and Logistic Regression Classifier performed best. Let's explore the number of estimators in the forest further. A general rule is that the RFC performs better when the amount of estimators increases."
   ]
  },
  {
   "cell_type": "code",
   "execution_count": 30,
   "metadata": {},
   "outputs": [
    {
     "data": {
      "image/png": "[encoded data removed]",
      "text/plain": [
       "<Figure size 432x288 with 1 Axes>"
      ]
     },
     "metadata": {
      "needs_background": "light"
     },
     "output_type": "display_data"
    }
   ],
   "source": [
    "# Exploring the number of estimators in the random forest\n",
    "score = []\n",
    "est = []\n",
    "estimators = [1, 10, 50, 100, 200, 300, 400, 500]\n",
    "for e in estimators:\n",
    "    rfc1 = RandomForestClassifier(n_estimators=e, random_state=100)\n",
    "    pred1 = rfc1.fit(X_train, y_train).predict(X_test)\n",
    "    accuracy = accuracy_score(y_test, pred1)\n",
    "    score.append(accuracy)\n",
    "    est.append(e)\n",
    "plot = sns.pointplot(x=est, y=score)\n",
    "plot.set(xlabel='Number of estimators', ylabel='Accuracy', \n",
    "         title='Accuracy score of RFC per # of estimators')\n",
    "plt.show()"
   ]
  },
  {
   "cell_type": "markdown",
   "metadata": {},
   "source": [
    "And indeed, the RFC performs better when the number of estimators increases. However, it plateaus at 100 estimators. In the for loop before I used 300 estimators which is a general number I like to start trying it out with. Apparently 100 estimators is enough for this dataset. If you start experimenting on a very large dataset, having less estimators will save you a lot of running time.\n",
    "\n",
    "We can also explore another variable like the minimum number of samples required to be at a leaf node."
   ]
  },
  {
   "cell_type": "code",
   "execution_count": 31,
   "metadata": {},
   "outputs": [
    {
     "data": {
      "image/png": "[encoded data removed]",
      "text/plain": [
       "<Figure size 432x288 with 1 Axes>"
      ]
     },
     "metadata": {
      "needs_background": "light"
     },
     "output_type": "display_data"
    }
   ],
   "source": [
    "# Exploring minimum leaf samples\n",
    "score = []\n",
    "leaf = []\n",
    "leaf_options = [1, 5, 10, 50, 100, 200]\n",
    "for l in leaf_options:\n",
    "    rfc2 = RandomForestClassifier(n_estimators=200, random_state=100, min_samples_leaf=l)\n",
    "    pred2 = rfc2.fit(X_train, y_train).predict(X_test)\n",
    "    accuracy = accuracy_score(y_test, pred2)\n",
    "    score.append(accuracy)\n",
    "    leaf.append(l)\n",
    "plot = sns.pointplot(x=leaf, y=score)\n",
    "plot.set(xlabel='Number of minimum leaf samples', ylabel='Accuracy', \n",
    "         title='Accuracy score of RFC per # of minimum leaf samples')\n",
    "plt.show()"
   ]
  },
  {
   "cell_type": "markdown",
   "metadata": {},
   "source": [
    "Extreme Gradient Boosting Many Kaggle competitions have been won by using Extreme Gradient Boosting. I have never used it so let's give it a try. "
   ]
  },
  {
   "cell_type": "code",
   "execution_count": 32,
   "metadata": {},
   "outputs": [
    {
     "name": "stdout",
     "output_type": "stream",
     "text": [
      "[[164   1]\n",
      " [ 17   2]]\n",
      "              precision    recall  f1-score   support\n",
      "\n",
      "           1       0.91      0.99      0.95       165\n",
      "           2       0.67      0.11      0.18        19\n",
      "\n",
      "   micro avg       0.90      0.90      0.90       184\n",
      "   macro avg       0.79      0.55      0.56       184\n",
      "weighted avg       0.88      0.90      0.87       184\n",
      "\n",
      "accuracy is 0.9021739130434783\n"
     ]
    }
   ],
   "source": [
    "xgb = XGBClassifier(seed=52)\n",
    "pred = xgb.fit(X_train, y_train).predict(X_test)\n",
    "print(confusion_matrix(y_test, pred))\n",
    "print(classification_report(y_test, pred))\n",
    "print(\"accuracy is \"+ str(accuracy_score(y_test, pred)))"
   ]
  },
  {
   "cell_type": "code",
   "execution_count": 33,
   "metadata": {},
   "outputs": [
    {
     "data": {
      "image/png": "[encoded data removed]",
      "text/plain": [
       "<Figure size 432x288 with 1 Axes>"
      ]
     },
     "metadata": {
      "needs_background": "light"
     },
     "output_type": "display_data"
    }
   ],
   "source": [
    "plot_importance(xgb)\n",
    "plt.rcParams['figure.figsize']=(10,5)\n",
    "plt.show()"
   ]
  },
  {
   "cell_type": "markdown",
   "metadata": {},
   "source": [
    "Next step is to try and improve the performance of our XGB Classifier by trying some different parameters and using a grid search approach."
   ]
  },
  {
   "cell_type": "code",
   "execution_count": 34,
   "metadata": {},
   "outputs": [
    {
     "name": "stdout",
     "output_type": "stream",
     "text": [
      "    accuracy  learning_rate  max_depth  n_estimators\n",
      "13  0.913043           0.01          3           100\n",
      "18  0.907609           0.10          3           150\n",
      "27  0.907609           0.01          4           200\n",
      "16  0.907609           0.10          3            50\n",
      "25  0.907609           0.01          4           100\n",
      "26  0.907609           0.01          4           150\n",
      "5   0.907609           0.10          2           100\n",
      "4   0.907609           0.10          2            50\n",
      "6   0.902174           0.10          2           150\n",
      "7   0.902174           0.10          2           200\n",
      "19  0.902174           0.10          3           200\n",
      "24  0.902174           0.01          4            50\n",
      "12  0.902174           0.01          3            50\n",
      "28  0.902174           0.10          4            50\n",
      "14  0.902174           0.01          3           150\n",
      "15  0.902174           0.01          3           200\n",
      "17  0.902174           0.10          3           100\n",
      "31  0.896739           0.10          4           200\n",
      "0   0.896739           0.01          2            50\n",
      "1   0.896739           0.01          2           100\n",
      "3   0.896739           0.01          2           200\n",
      "2   0.896739           0.01          2           150\n",
      "30  0.891304           0.10          4           150\n",
      "29  0.891304           0.10          4           100\n",
      "8   0.891304           1.00          2            50\n",
      "9   0.880435           1.00          2           100\n",
      "20  0.880435           1.00          3            50\n",
      "10  0.875000           1.00          2           150\n",
      "23  0.869565           1.00          3           200\n",
      "21  0.869565           1.00          3           100\n",
      "32  0.869565           1.00          4            50\n",
      "11  0.864130           1.00          2           200\n",
      "22  0.864130           1.00          3           150\n",
      "34  0.864130           1.00          4           150\n",
      "33  0.858696           1.00          4           100\n",
      "35  0.858696           1.00          4           200\n"
     ]
    }
   ],
   "source": [
    "# Let's try to improve the accuracy of the XGClassifier with a grid search approach.\n",
    "\n",
    "d_values = []\n",
    "l_values = []\n",
    "n_values = []\n",
    "acc_values = []\n",
    "depth = [2, 3, 4]\n",
    "learning_Rate = [0.01, 0.1, 1]\n",
    "n_estimators = [50, 100, 150, 200]\n",
    "for d in depth:\n",
    "    for l in learning_Rate:\n",
    "        for n in n_estimators:\n",
    "            xgb = XGBClassifier(max_depth=d, learning_rate=l, n_estimators=n, seed=52)\n",
    "            pred = xgb.fit(X_train, y_train).predict(X_test)\n",
    "            acc = accuracy_score(y_test, pred)\n",
    "            d_values.append(d)\n",
    "            l_values.append(l)\n",
    "            n_values.append(n)\n",
    "            acc_values.append(acc)\n",
    "            \n",
    "dict = {'max_depth':d_values, 'learning_rate':l_values, 'n_estimators':n_values,\n",
    "       'accuracy':acc_values}\n",
    "\n",
    "output = pd.DataFrame.from_dict(data=dict)\n",
    "print(output.sort_values(by='accuracy', ascending=False))"
   ]
  },
  {
   "cell_type": "markdown",
   "metadata": {},
   "source": [
    "Accuracy only improved slight.\n",
    "\n",
    "\n",
    "The XGB model now also performs better than the random forest classifier which capped at 0.847826.\n",
    "\n",
    "Let's explore the important features in this 'best' model."
   ]
  },
  {
   "cell_type": "code",
   "execution_count": 35,
   "metadata": {},
   "outputs": [
    {
     "name": "stdout",
     "output_type": "stream",
     "text": [
      "[[160   5]\n",
      " [ 16   3]]\n",
      "              precision    recall  f1-score   support\n",
      "\n",
      "           1       0.91      0.97      0.94       165\n",
      "           2       0.38      0.16      0.22        19\n",
      "\n",
      "   micro avg       0.89      0.89      0.89       184\n",
      "   macro avg       0.64      0.56      0.58       184\n",
      "weighted avg       0.85      0.89      0.86       184\n",
      "\n",
      "accuracy is 0.8858695652173914\n"
     ]
    },
    {
     "data": {
      "image/png": "[encoded data removed]",
      "text/plain": [
       "<Figure size 720x360 with 1 Axes>"
      ]
     },
     "metadata": {
      "needs_background": "light"
     },
     "output_type": "display_data"
    }
   ],
   "source": [
    "# Building the best XGB and looking at feature importances\n",
    "\n",
    "xgb2 = XGBClassifier(max_depth=4, learning_rate=0.1, n_estimators=300, seed=52)\n",
    "pred = xgb2.fit(X_train, y_train).predict(X_test)\n",
    "print(confusion_matrix(y_test, pred))\n",
    "print(classification_report(y_test, pred))\n",
    "print(\"accuracy is \"+ str(accuracy_score(y_test, pred)))   \n",
    "\n",
    "plot_importance(xgb2)\n",
    "plt.rcParams['figure.figsize']=(10,5)\n",
    "plt.show()"
   ]
  },
  {
   "cell_type": "markdown",
   "metadata": {},
   "source": [
    "Let's explore the feature importances of our best Random Forest model as well."
   ]
  },
  {
   "cell_type": "code",
   "execution_count": 36,
   "metadata": {},
   "outputs": [
    {
     "data": {
      "image/png": "[encoded data removed]",
      "text/plain": [
       "<Figure size 720x360 with 1 Axes>"
      ]
     },
     "metadata": {
      "needs_background": "light"
     },
     "output_type": "display_data"
    }
   ],
   "source": [
    "rfc = RandomForestClassifier(n_estimators=300, random_state=52)\n",
    "pred = rfc.fit(X_train, y_train).predict(X_test)\n",
    "dn = {'features':X.columns, 'score':rfc.feature_importances_}\n",
    "df = pd.DataFrame.from_dict(data=dn).sort_values(by='score', ascending=False)\n",
    "plot = sns.barplot(x='score', y='features', data=df, orient='h')\n",
    "plot.set(xlabel='Score', ylabel='Features', \n",
    "         title='Feature Importance of Random Forest Classifier')\n",
    "plt.setp(plot.get_xticklabels(), rotation=90)\n",
    "plt.show()"
   ]
  },
  {
   "cell_type": "markdown",
   "metadata": {},
   "source": [
    "Ratio (or average class size) and Div (or locatio) top both RFC and XGB. It was followed by Poverty Incidence, PBOR (budget per student), Region, and School Type. The school being in the city or not and having electricity and internet have the least feature importance."
   ]
  }
 ],
 "metadata": {
  "kernelspec": {
   "display_name": "Python 3",
   "language": "python",
   "name": "python3"
  },
  "language_info": {
   "codemirror_mode": {
    "name": "ipython",
    "version": 2
   },
   "file_extension": ".py",
   "mimetype": "text/x-python",
   "name": "python",
   "nbconvert_exporter": "python",
   "pygments_lexer": "ipython2",
   "version": "2.7.16"
  }
 },
 "nbformat": 4,
 "nbformat_minor": 2
}
