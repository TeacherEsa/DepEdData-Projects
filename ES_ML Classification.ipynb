{
 "cells": [
  {
   "cell_type": "markdown",
   "metadata": {},
   "source": [
    "Dataset: depedES2.csv"
   ]
  },
  {
   "cell_type": "markdown",
   "metadata": {},
   "source": [
    "# Ensemble-Based Model"
   ]
  },
  {
   "cell_type": "markdown",
   "metadata": {},
   "source": [
    "# FEATURE SELECTION"
   ]
  },
  {
   "cell_type": "markdown",
   "metadata": {},
   "source": [
    "###Attributes (DepEd ES data)\n",
    "  1. SchID: unique 6-digit code assigned to public school (numeric)\n",
    "  2. SchName : name of school (object: text)\n",
    "  3. DivName : division name (object: mixed characters)\n",
    "  4. DivCode : division code (object: mixed characters)\n",
    "  5. Clusters: NAT grouping by DepEd (categorical: \"1\", \"2\", \"3\", \"4\", \"5\", \"6\")\n",
    "  6. Region: schools regional location (categorical: values 1 to 16)\n",
    "  7. Filipno: school average filipino NAT score (categorical: \"1\", \"2\", \"3\", \"4\", \"5\", \"6\")\n",
    "  8. AralinP: school average araling panlipunan NAT score (categorical: \"1\", \"2\", \"3\", \"4\", \"5\", \"6\")\n",
    "  9. Mathematics: school average mathematics NAT score (categorical: \"1\", \"2\", \"3\", \"4\", \"5\", \"6\")\n",
    "  10. Science: school average science NAT score (categorical: \"1\", \"2\", \"3\", \"4\", \"5\", \"6\")categorical: 1 means below 75; 2 means above 75)\n",
    "  11. English: school average english NAT score (categorical: \"1\", \"2\", \"3\", \"4\", \"5\", \"6\")\n",
    "  12. Overall: school average NAT score (categorical: \"1\", \"2\", \"3\", \"4\", \"5\", \"6\")\n",
    "  13. Internet: does school have internet (binary: 0 means \"no\", 1 means \"yes\")\n",
    "  14. Lat: latitude coordinate location of school (numeric: -90 to 90)\n",
    "  15. Long: longitude coordinate location of school (numeric: -180 to 180)\n",
    "  16. Enrolled: number of students (numeric)\n",
    "  17. Teacher: number of teacher items (numeric)\n",
    "  18. Ratio: teacher to student ratio(numeric between 0 to 1)\n",
    "  19. Energized : does school have electricity (binary: 0 means \"no\", 1 means \"yes\")\n",
    "  20. SchType: type of school (categorical: \"School with no annexes\",\"mother school\", \"Annex or extension\")"
   ]
  },
  {
   "cell_type": "markdown",
   "metadata": {},
   "source": [
    "## Import Libraries"
   ]
  },
  {
   "cell_type": "code",
   "execution_count": 1,
   "metadata": {},
   "outputs": [],
   "source": [
    "import pandas as pd\n",
    "import numpy as np\n",
    "import seaborn as sns\n",
    "from sklearn.ensemble import ExtraTreesClassifier\n",
    "import matplotlib.pyplot as plt\n",
    "from sklearn.feature_selection import SelectKBest\n",
    "from sklearn.feature_selection import chi2\n",
    "from sklearn.preprocessing import LabelEncoder\n",
    "from sklearn.model_selection import train_test_split\n",
    "from sklearn.linear_model import LogisticRegression\n",
    "from sklearn.ensemble import RandomForestClassifier\n",
    "from sklearn.tree import DecisionTreeClassifier\n",
    "from sklearn.metrics import confusion_matrix, classification_report, accuracy_score\n",
    "from sklearn.model_selection import cross_val_score\n",
    "from xgboost import XGBClassifier, plot_importance"
   ]
  },
  {
   "cell_type": "code",
   "execution_count": 2,
   "metadata": {},
   "outputs": [],
   "source": [
    "import os\n",
    "os.environ['KMP_DUPLICATE_LIB_OK']='True'"
   ]
  },
  {
   "cell_type": "markdown",
   "metadata": {},
   "source": [
    "### Upload data set, drop unnecessary columns, identify target/independent columns"
   ]
  },
  {
   "cell_type": "code",
   "execution_count": 3,
   "metadata": {},
   "outputs": [],
   "source": [
    "data = pd.read_csv(\"DepEd_ES.CSV\")"
   ]
  },
  {
   "cell_type": "code",
   "execution_count": 4,
   "metadata": {},
   "outputs": [
    {
     "data": {
      "text/html": [
       "<div>\n",
       "<style scoped>\n",
       "    .dataframe tbody tr th:only-of-type {\n",
       "        vertical-align: middle;\n",
       "    }\n",
       "\n",
       "    .dataframe tbody tr th {\n",
       "        vertical-align: top;\n",
       "    }\n",
       "\n",
       "    .dataframe thead th {\n",
       "        text-align: right;\n",
       "    }\n",
       "</style>\n",
       "<table border=\"1\" class=\"dataframe\">\n",
       "  <thead>\n",
       "    <tr style=\"text-align: right;\">\n",
       "      <th></th>\n",
       "      <th>SchID</th>\n",
       "      <th>SchName</th>\n",
       "      <th>DivName</th>\n",
       "      <th>DivisionCode</th>\n",
       "      <th>Province</th>\n",
       "      <th>MunicipalityORCity</th>\n",
       "      <th>Clusters</th>\n",
       "      <th>Region</th>\n",
       "      <th>Filipino</th>\n",
       "      <th>AralinP</th>\n",
       "      <th>...</th>\n",
       "      <th>Teachers</th>\n",
       "      <th>Ratio</th>\n",
       "      <th>Energized</th>\n",
       "      <th>Grid</th>\n",
       "      <th>SchoolType</th>\n",
       "      <th>PBOR</th>\n",
       "      <th>PovertyCluster</th>\n",
       "      <th>PovertyIncidence</th>\n",
       "      <th>LowerLimit</th>\n",
       "      <th>UpperLimit</th>\n",
       "    </tr>\n",
       "  </thead>\n",
       "  <tbody>\n",
       "    <tr>\n",
       "      <th>0</th>\n",
       "      <td>134968</td>\n",
       "      <td>Bangued East CS</td>\n",
       "      <td>Abra</td>\n",
       "      <td>N01</td>\n",
       "      <td>ABRA</td>\n",
       "      <td>BANGUED (Capital)</td>\n",
       "      <td>4</td>\n",
       "      <td>CAR</td>\n",
       "      <td>44.0141</td>\n",
       "      <td>37.4648</td>\n",
       "      <td>...</td>\n",
       "      <td>19</td>\n",
       "      <td>23</td>\n",
       "      <td>1</td>\n",
       "      <td>1</td>\n",
       "      <td>School with no Annexes</td>\n",
       "      <td>15781.0</td>\n",
       "      <td>3</td>\n",
       "      <td>20</td>\n",
       "      <td>16</td>\n",
       "      <td>53</td>\n",
       "    </tr>\n",
       "    <tr>\n",
       "      <th>1</th>\n",
       "      <td>135008</td>\n",
       "      <td>Siwasiw ES</td>\n",
       "      <td>Abra</td>\n",
       "      <td>N01</td>\n",
       "      <td>ABRA</td>\n",
       "      <td>BUCAY</td>\n",
       "      <td>5</td>\n",
       "      <td>CAR</td>\n",
       "      <td>64.4022</td>\n",
       "      <td>64.7283</td>\n",
       "      <td>...</td>\n",
       "      <td>6</td>\n",
       "      <td>37</td>\n",
       "      <td>1</td>\n",
       "      <td>1</td>\n",
       "      <td>School with no Annexes</td>\n",
       "      <td>15781.0</td>\n",
       "      <td>3</td>\n",
       "      <td>20</td>\n",
       "      <td>16</td>\n",
       "      <td>53</td>\n",
       "    </tr>\n",
       "    <tr>\n",
       "      <th>2</th>\n",
       "      <td>134995</td>\n",
       "      <td>Layugan ES</td>\n",
       "      <td>Abra</td>\n",
       "      <td>N01</td>\n",
       "      <td>ABRA</td>\n",
       "      <td>BUCAY</td>\n",
       "      <td>5</td>\n",
       "      <td>CAR</td>\n",
       "      <td>67.8049</td>\n",
       "      <td>75.9756</td>\n",
       "      <td>...</td>\n",
       "      <td>9</td>\n",
       "      <td>32</td>\n",
       "      <td>1</td>\n",
       "      <td>1</td>\n",
       "      <td>School with no Annexes</td>\n",
       "      <td>15781.0</td>\n",
       "      <td>3</td>\n",
       "      <td>20</td>\n",
       "      <td>16</td>\n",
       "      <td>53</td>\n",
       "    </tr>\n",
       "    <tr>\n",
       "      <th>3</th>\n",
       "      <td>135182</td>\n",
       "      <td>Ducligan ES</td>\n",
       "      <td>Abra</td>\n",
       "      <td>N01</td>\n",
       "      <td>ABRA</td>\n",
       "      <td>BUCLOC</td>\n",
       "      <td>6</td>\n",
       "      <td>CAR</td>\n",
       "      <td>72.8846</td>\n",
       "      <td>73.8462</td>\n",
       "      <td>...</td>\n",
       "      <td>12</td>\n",
       "      <td>20</td>\n",
       "      <td>1</td>\n",
       "      <td>1</td>\n",
       "      <td>School with no Annexes</td>\n",
       "      <td>15781.0</td>\n",
       "      <td>3</td>\n",
       "      <td>20</td>\n",
       "      <td>16</td>\n",
       "      <td>53</td>\n",
       "    </tr>\n",
       "    <tr>\n",
       "      <th>4</th>\n",
       "      <td>135022</td>\n",
       "      <td>Pacac ES</td>\n",
       "      <td>Abra</td>\n",
       "      <td>N01</td>\n",
       "      <td>ABRA</td>\n",
       "      <td>DOLORES</td>\n",
       "      <td>6</td>\n",
       "      <td>CAR</td>\n",
       "      <td>72.7083</td>\n",
       "      <td>80.4167</td>\n",
       "      <td>...</td>\n",
       "      <td>4</td>\n",
       "      <td>19</td>\n",
       "      <td>1</td>\n",
       "      <td>1</td>\n",
       "      <td>School with no Annexes</td>\n",
       "      <td>15781.0</td>\n",
       "      <td>3</td>\n",
       "      <td>20</td>\n",
       "      <td>16</td>\n",
       "      <td>53</td>\n",
       "    </tr>\n",
       "  </tbody>\n",
       "</table>\n",
       "<p>5 rows × 28 columns</p>\n",
       "</div>"
      ],
      "text/plain": [
       "    SchID          SchName DivName DivisionCode Province MunicipalityORCity  \\\n",
       "0  134968  Bangued East CS    Abra          N01     ABRA  BANGUED (Capital)   \n",
       "1  135008       Siwasiw ES    Abra          N01     ABRA              BUCAY   \n",
       "2  134995       Layugan ES    Abra          N01     ABRA              BUCAY   \n",
       "3  135182      Ducligan ES    Abra          N01     ABRA             BUCLOC   \n",
       "4  135022         Pacac ES    Abra          N01     ABRA            DOLORES   \n",
       "\n",
       "   Clusters Region  Filipino  AralinP  ...  Teachers  Ratio  Energized  Grid  \\\n",
       "0         4    CAR   44.0141  37.4648  ...        19     23          1     1   \n",
       "1         5    CAR   64.4022  64.7283  ...         6     37          1     1   \n",
       "2         5    CAR   67.8049  75.9756  ...         9     32          1     1   \n",
       "3         6    CAR   72.8846  73.8462  ...        12     20          1     1   \n",
       "4         6    CAR   72.7083  80.4167  ...         4     19          1     1   \n",
       "\n",
       "               SchoolType     PBOR  PovertyCluster  PovertyIncidence  \\\n",
       "0  School with no Annexes  15781.0               3                20   \n",
       "1  School with no Annexes  15781.0               3                20   \n",
       "2  School with no Annexes  15781.0               3                20   \n",
       "3  School with no Annexes  15781.0               3                20   \n",
       "4  School with no Annexes  15781.0               3                20   \n",
       "\n",
       "   LowerLimit  UpperLimit  \n",
       "0          16          53  \n",
       "1          16          53  \n",
       "2          16          53  \n",
       "3          16          53  \n",
       "4          16          53  \n",
       "\n",
       "[5 rows x 28 columns]"
      ]
     },
     "execution_count": 4,
     "metadata": {},
     "output_type": "execute_result"
    }
   ],
   "source": [
    "data.head()"
   ]
  },
  {
   "cell_type": "code",
   "execution_count": 5,
   "metadata": {},
   "outputs": [
    {
     "data": {
      "text/plain": [
       "Index([u'SchID', u'SchName', u'DivName', u'DivisionCode', u'Province',\n",
       "       u'MunicipalityORCity', u'Clusters', u'Region', u'Filipino', u'AralinP',\n",
       "       u'Mathematics', u'Science', u'English', u'Overall', u'Internet', u'Lat',\n",
       "       u'Long', u'Enrolled', u'Teachers', u'Ratio', u'Energized', u'Grid',\n",
       "       u'SchoolType', u'PBOR', u'PovertyCluster', u'PovertyIncidence',\n",
       "       u'LowerLimit', u'UpperLimit'],\n",
       "      dtype='object')"
      ]
     },
     "execution_count": 5,
     "metadata": {},
     "output_type": "execute_result"
    }
   ],
   "source": [
    "data.columns"
   ]
  },
  {
   "cell_type": "code",
   "execution_count": 6,
   "metadata": {},
   "outputs": [
    {
     "data": {
      "text/html": [
       "<div>\n",
       "<style scoped>\n",
       "    .dataframe tbody tr th:only-of-type {\n",
       "        vertical-align: middle;\n",
       "    }\n",
       "\n",
       "    .dataframe tbody tr th {\n",
       "        vertical-align: top;\n",
       "    }\n",
       "\n",
       "    .dataframe thead th {\n",
       "        text-align: right;\n",
       "    }\n",
       "</style>\n",
       "<table border=\"1\" class=\"dataframe\">\n",
       "  <thead>\n",
       "    <tr style=\"text-align: right;\">\n",
       "      <th></th>\n",
       "      <th>SchID</th>\n",
       "      <th>SchName</th>\n",
       "      <th>DivName</th>\n",
       "      <th>DivisionCode</th>\n",
       "      <th>Province</th>\n",
       "      <th>MunicipalityORCity</th>\n",
       "      <th>Clusters</th>\n",
       "      <th>Region</th>\n",
       "      <th>Filipino</th>\n",
       "      <th>AralinP</th>\n",
       "      <th>...</th>\n",
       "      <th>Teachers</th>\n",
       "      <th>Ratio</th>\n",
       "      <th>Energized</th>\n",
       "      <th>Grid</th>\n",
       "      <th>SchoolType</th>\n",
       "      <th>PBOR</th>\n",
       "      <th>PovertyCluster</th>\n",
       "      <th>PovertyIncidence</th>\n",
       "      <th>LowerLimit</th>\n",
       "      <th>UpperLimit</th>\n",
       "    </tr>\n",
       "  </thead>\n",
       "  <tbody>\n",
       "    <tr>\n",
       "      <th>count</th>\n",
       "      <td>3377.000000</td>\n",
       "      <td>3377</td>\n",
       "      <td>3377</td>\n",
       "      <td>3377</td>\n",
       "      <td>3377</td>\n",
       "      <td>3377</td>\n",
       "      <td>3377.000000</td>\n",
       "      <td>3377</td>\n",
       "      <td>3377.000000</td>\n",
       "      <td>3377.000000</td>\n",
       "      <td>...</td>\n",
       "      <td>3377.000000</td>\n",
       "      <td>3377.000000</td>\n",
       "      <td>3377.000000</td>\n",
       "      <td>3377.000000</td>\n",
       "      <td>3377</td>\n",
       "      <td>3377.000000</td>\n",
       "      <td>3377.000000</td>\n",
       "      <td>3377.000000</td>\n",
       "      <td>3377.000000</td>\n",
       "      <td>3377.000000</td>\n",
       "    </tr>\n",
       "    <tr>\n",
       "      <th>unique</th>\n",
       "      <td>NaN</td>\n",
       "      <td>2990</td>\n",
       "      <td>210</td>\n",
       "      <td>212</td>\n",
       "      <td>86</td>\n",
       "      <td>1160</td>\n",
       "      <td>NaN</td>\n",
       "      <td>17</td>\n",
       "      <td>NaN</td>\n",
       "      <td>NaN</td>\n",
       "      <td>...</td>\n",
       "      <td>NaN</td>\n",
       "      <td>NaN</td>\n",
       "      <td>NaN</td>\n",
       "      <td>NaN</td>\n",
       "      <td>4</td>\n",
       "      <td>NaN</td>\n",
       "      <td>NaN</td>\n",
       "      <td>NaN</td>\n",
       "      <td>NaN</td>\n",
       "      <td>NaN</td>\n",
       "    </tr>\n",
       "    <tr>\n",
       "      <th>top</th>\n",
       "      <td>NaN</td>\n",
       "      <td>San Isidro ES</td>\n",
       "      <td>Leyte</td>\n",
       "      <td>H04</td>\n",
       "      <td>LEYTE</td>\n",
       "      <td>DAVAO CITY</td>\n",
       "      <td>NaN</td>\n",
       "      <td>VIII</td>\n",
       "      <td>NaN</td>\n",
       "      <td>NaN</td>\n",
       "      <td>...</td>\n",
       "      <td>NaN</td>\n",
       "      <td>NaN</td>\n",
       "      <td>NaN</td>\n",
       "      <td>NaN</td>\n",
       "      <td>School with no Annexes</td>\n",
       "      <td>NaN</td>\n",
       "      <td>NaN</td>\n",
       "      <td>NaN</td>\n",
       "      <td>NaN</td>\n",
       "      <td>NaN</td>\n",
       "    </tr>\n",
       "    <tr>\n",
       "      <th>freq</th>\n",
       "      <td>NaN</td>\n",
       "      <td>23</td>\n",
       "      <td>105</td>\n",
       "      <td>105</td>\n",
       "      <td>119</td>\n",
       "      <td>34</td>\n",
       "      <td>NaN</td>\n",
       "      <td>347</td>\n",
       "      <td>NaN</td>\n",
       "      <td>NaN</td>\n",
       "      <td>...</td>\n",
       "      <td>NaN</td>\n",
       "      <td>NaN</td>\n",
       "      <td>NaN</td>\n",
       "      <td>NaN</td>\n",
       "      <td>3310</td>\n",
       "      <td>NaN</td>\n",
       "      <td>NaN</td>\n",
       "      <td>NaN</td>\n",
       "      <td>NaN</td>\n",
       "      <td>NaN</td>\n",
       "    </tr>\n",
       "    <tr>\n",
       "      <th>mean</th>\n",
       "      <td>121042.840983</td>\n",
       "      <td>NaN</td>\n",
       "      <td>NaN</td>\n",
       "      <td>NaN</td>\n",
       "      <td>NaN</td>\n",
       "      <td>NaN</td>\n",
       "      <td>4.888955</td>\n",
       "      <td>NaN</td>\n",
       "      <td>71.915518</td>\n",
       "      <td>74.100833</td>\n",
       "      <td>...</td>\n",
       "      <td>14.553450</td>\n",
       "      <td>31.981344</td>\n",
       "      <td>0.910868</td>\n",
       "      <td>0.864377</td>\n",
       "      <td>NaN</td>\n",
       "      <td>5889.640163</td>\n",
       "      <td>3.031093</td>\n",
       "      <td>21.677821</td>\n",
       "      <td>15.552561</td>\n",
       "      <td>27.097424</td>\n",
       "    </tr>\n",
       "    <tr>\n",
       "      <th>std</th>\n",
       "      <td>20254.523068</td>\n",
       "      <td>NaN</td>\n",
       "      <td>NaN</td>\n",
       "      <td>NaN</td>\n",
       "      <td>NaN</td>\n",
       "      <td>NaN</td>\n",
       "      <td>1.082683</td>\n",
       "      <td>NaN</td>\n",
       "      <td>11.823959</td>\n",
       "      <td>16.099594</td>\n",
       "      <td>...</td>\n",
       "      <td>35.390663</td>\n",
       "      <td>10.282097</td>\n",
       "      <td>0.284977</td>\n",
       "      <td>0.342439</td>\n",
       "      <td>NaN</td>\n",
       "      <td>5666.438632</td>\n",
       "      <td>1.236028</td>\n",
       "      <td>12.920435</td>\n",
       "      <td>10.649507</td>\n",
       "      <td>16.042680</td>\n",
       "    </tr>\n",
       "    <tr>\n",
       "      <th>min</th>\n",
       "      <td>100003.000000</td>\n",
       "      <td>NaN</td>\n",
       "      <td>NaN</td>\n",
       "      <td>NaN</td>\n",
       "      <td>NaN</td>\n",
       "      <td>NaN</td>\n",
       "      <td>1.000000</td>\n",
       "      <td>NaN</td>\n",
       "      <td>27.000000</td>\n",
       "      <td>16.842100</td>\n",
       "      <td>...</td>\n",
       "      <td>1.000000</td>\n",
       "      <td>2.000000</td>\n",
       "      <td>0.000000</td>\n",
       "      <td>0.000000</td>\n",
       "      <td>NaN</td>\n",
       "      <td>277.290000</td>\n",
       "      <td>1.000000</td>\n",
       "      <td>0.000000</td>\n",
       "      <td>0.000000</td>\n",
       "      <td>0.000000</td>\n",
       "    </tr>\n",
       "    <tr>\n",
       "      <th>25%</th>\n",
       "      <td>109134.000000</td>\n",
       "      <td>NaN</td>\n",
       "      <td>NaN</td>\n",
       "      <td>NaN</td>\n",
       "      <td>NaN</td>\n",
       "      <td>NaN</td>\n",
       "      <td>4.000000</td>\n",
       "      <td>NaN</td>\n",
       "      <td>64.367100</td>\n",
       "      <td>65.000000</td>\n",
       "      <td>...</td>\n",
       "      <td>6.000000</td>\n",
       "      <td>25.000000</td>\n",
       "      <td>1.000000</td>\n",
       "      <td>1.000000</td>\n",
       "      <td>NaN</td>\n",
       "      <td>277.290000</td>\n",
       "      <td>2.000000</td>\n",
       "      <td>12.000000</td>\n",
       "      <td>8.000000</td>\n",
       "      <td>16.000000</td>\n",
       "    </tr>\n",
       "    <tr>\n",
       "      <th>50%</th>\n",
       "      <td>118739.000000</td>\n",
       "      <td>NaN</td>\n",
       "      <td>NaN</td>\n",
       "      <td>NaN</td>\n",
       "      <td>NaN</td>\n",
       "      <td>NaN</td>\n",
       "      <td>5.000000</td>\n",
       "      <td>NaN</td>\n",
       "      <td>73.281300</td>\n",
       "      <td>77.711900</td>\n",
       "      <td>...</td>\n",
       "      <td>8.000000</td>\n",
       "      <td>32.000000</td>\n",
       "      <td>1.000000</td>\n",
       "      <td>1.000000</td>\n",
       "      <td>NaN</td>\n",
       "      <td>8982.000000</td>\n",
       "      <td>3.000000</td>\n",
       "      <td>19.000000</td>\n",
       "      <td>14.000000</td>\n",
       "      <td>25.000000</td>\n",
       "    </tr>\n",
       "    <tr>\n",
       "      <th>75%</th>\n",
       "      <td>127712.000000</td>\n",
       "      <td>NaN</td>\n",
       "      <td>NaN</td>\n",
       "      <td>NaN</td>\n",
       "      <td>NaN</td>\n",
       "      <td>NaN</td>\n",
       "      <td>6.000000</td>\n",
       "      <td>NaN</td>\n",
       "      <td>81.055600</td>\n",
       "      <td>86.388900</td>\n",
       "      <td>...</td>\n",
       "      <td>14.000000</td>\n",
       "      <td>38.000000</td>\n",
       "      <td>1.000000</td>\n",
       "      <td>1.000000</td>\n",
       "      <td>NaN</td>\n",
       "      <td>10732.000000</td>\n",
       "      <td>4.000000</td>\n",
       "      <td>30.000000</td>\n",
       "      <td>21.000000</td>\n",
       "      <td>39.000000</td>\n",
       "    </tr>\n",
       "    <tr>\n",
       "      <th>max</th>\n",
       "      <td>500019.000000</td>\n",
       "      <td>NaN</td>\n",
       "      <td>NaN</td>\n",
       "      <td>NaN</td>\n",
       "      <td>NaN</td>\n",
       "      <td>NaN</td>\n",
       "      <td>6.000000</td>\n",
       "      <td>NaN</td>\n",
       "      <td>97.500000</td>\n",
       "      <td>99.833300</td>\n",
       "      <td>...</td>\n",
       "      <td>1630.000000</td>\n",
       "      <td>177.000000</td>\n",
       "      <td>1.000000</td>\n",
       "      <td>1.000000</td>\n",
       "      <td>NaN</td>\n",
       "      <td>15781.000000</td>\n",
       "      <td>5.000000</td>\n",
       "      <td>66.000000</td>\n",
       "      <td>61.000000</td>\n",
       "      <td>72.000000</td>\n",
       "    </tr>\n",
       "  </tbody>\n",
       "</table>\n",
       "<p>11 rows × 28 columns</p>\n",
       "</div>"
      ],
      "text/plain": [
       "                SchID        SchName DivName DivisionCode Province  \\\n",
       "count     3377.000000           3377    3377         3377     3377   \n",
       "unique            NaN           2990     210          212       86   \n",
       "top               NaN  San Isidro ES   Leyte          H04    LEYTE   \n",
       "freq              NaN             23     105          105      119   \n",
       "mean    121042.840983            NaN     NaN          NaN      NaN   \n",
       "std      20254.523068            NaN     NaN          NaN      NaN   \n",
       "min     100003.000000            NaN     NaN          NaN      NaN   \n",
       "25%     109134.000000            NaN     NaN          NaN      NaN   \n",
       "50%     118739.000000            NaN     NaN          NaN      NaN   \n",
       "75%     127712.000000            NaN     NaN          NaN      NaN   \n",
       "max     500019.000000            NaN     NaN          NaN      NaN   \n",
       "\n",
       "       MunicipalityORCity     Clusters Region     Filipino      AralinP  ...  \\\n",
       "count                3377  3377.000000   3377  3377.000000  3377.000000  ...   \n",
       "unique               1160          NaN     17          NaN          NaN  ...   \n",
       "top            DAVAO CITY          NaN   VIII          NaN          NaN  ...   \n",
       "freq                   34          NaN    347          NaN          NaN  ...   \n",
       "mean                  NaN     4.888955    NaN    71.915518    74.100833  ...   \n",
       "std                   NaN     1.082683    NaN    11.823959    16.099594  ...   \n",
       "min                   NaN     1.000000    NaN    27.000000    16.842100  ...   \n",
       "25%                   NaN     4.000000    NaN    64.367100    65.000000  ...   \n",
       "50%                   NaN     5.000000    NaN    73.281300    77.711900  ...   \n",
       "75%                   NaN     6.000000    NaN    81.055600    86.388900  ...   \n",
       "max                   NaN     6.000000    NaN    97.500000    99.833300  ...   \n",
       "\n",
       "           Teachers        Ratio    Energized         Grid  \\\n",
       "count   3377.000000  3377.000000  3377.000000  3377.000000   \n",
       "unique          NaN          NaN          NaN          NaN   \n",
       "top             NaN          NaN          NaN          NaN   \n",
       "freq            NaN          NaN          NaN          NaN   \n",
       "mean      14.553450    31.981344     0.910868     0.864377   \n",
       "std       35.390663    10.282097     0.284977     0.342439   \n",
       "min        1.000000     2.000000     0.000000     0.000000   \n",
       "25%        6.000000    25.000000     1.000000     1.000000   \n",
       "50%        8.000000    32.000000     1.000000     1.000000   \n",
       "75%       14.000000    38.000000     1.000000     1.000000   \n",
       "max     1630.000000   177.000000     1.000000     1.000000   \n",
       "\n",
       "                    SchoolType          PBOR  PovertyCluster  \\\n",
       "count                     3377   3377.000000     3377.000000   \n",
       "unique                       4           NaN             NaN   \n",
       "top     School with no Annexes           NaN             NaN   \n",
       "freq                      3310           NaN             NaN   \n",
       "mean                       NaN   5889.640163        3.031093   \n",
       "std                        NaN   5666.438632        1.236028   \n",
       "min                        NaN    277.290000        1.000000   \n",
       "25%                        NaN    277.290000        2.000000   \n",
       "50%                        NaN   8982.000000        3.000000   \n",
       "75%                        NaN  10732.000000        4.000000   \n",
       "max                        NaN  15781.000000        5.000000   \n",
       "\n",
       "        PovertyIncidence   LowerLimit   UpperLimit  \n",
       "count        3377.000000  3377.000000  3377.000000  \n",
       "unique               NaN          NaN          NaN  \n",
       "top                  NaN          NaN          NaN  \n",
       "freq                 NaN          NaN          NaN  \n",
       "mean           21.677821    15.552561    27.097424  \n",
       "std            12.920435    10.649507    16.042680  \n",
       "min             0.000000     0.000000     0.000000  \n",
       "25%            12.000000     8.000000    16.000000  \n",
       "50%            19.000000    14.000000    25.000000  \n",
       "75%            30.000000    21.000000    39.000000  \n",
       "max            66.000000    61.000000    72.000000  \n",
       "\n",
       "[11 rows x 28 columns]"
      ]
     },
     "execution_count": 6,
     "metadata": {},
     "output_type": "execute_result"
    }
   ],
   "source": [
    "data.describe(include='all')"
   ]
  },
  {
   "cell_type": "code",
   "execution_count": 7,
   "metadata": {},
   "outputs": [
    {
     "name": "stdout",
     "output_type": "stream",
     "text": [
      "<class 'pandas.core.frame.DataFrame'>\n",
      "RangeIndex: 3377 entries, 0 to 3376\n",
      "Data columns (total 28 columns):\n",
      "SchID                 3377 non-null int64\n",
      "SchName               3377 non-null object\n",
      "DivName               3377 non-null object\n",
      "DivisionCode          3377 non-null object\n",
      "Province              3377 non-null object\n",
      "MunicipalityORCity    3377 non-null object\n",
      "Clusters              3377 non-null int64\n",
      "Region                3377 non-null object\n",
      "Filipino              3377 non-null float64\n",
      "AralinP               3377 non-null float64\n",
      "Mathematics           3377 non-null float64\n",
      "Science               3377 non-null float64\n",
      "English               3377 non-null float64\n",
      "Overall               3377 non-null float64\n",
      "Internet              3377 non-null int64\n",
      "Lat                   3377 non-null float64\n",
      "Long                  3377 non-null float64\n",
      "Enrolled              3377 non-null int64\n",
      "Teachers              3377 non-null int64\n",
      "Ratio                 3377 non-null int64\n",
      "Energized             3377 non-null int64\n",
      "Grid                  3377 non-null int64\n",
      "SchoolType            3377 non-null object\n",
      "PBOR                  3377 non-null float64\n",
      "PovertyCluster        3377 non-null int64\n",
      "PovertyIncidence      3377 non-null int64\n",
      "LowerLimit            3377 non-null int64\n",
      "UpperLimit            3377 non-null int64\n",
      "dtypes: float64(9), int64(12), object(7)\n",
      "memory usage: 738.8+ KB\n"
     ]
    }
   ],
   "source": [
    "data.info()"
   ]
  },
  {
   "cell_type": "code",
   "execution_count": 8,
   "metadata": {},
   "outputs": [],
   "source": [
    "data['Reg'] = data['Region'].astype('category')"
   ]
  },
  {
   "cell_type": "code",
   "execution_count": 11,
   "metadata": {},
   "outputs": [],
   "source": [
    "data['SType'] = data['SchoolType'].astype('category')"
   ]
  },
  {
   "cell_type": "code",
   "execution_count": 12,
   "metadata": {},
   "outputs": [],
   "source": [
    "bins = [0, 65, 100]\n",
    "data['Average'] = np.searchsorted(bins, data['Overall'].values)"
   ]
  },
  {
   "cell_type": "code",
   "execution_count": 13,
   "metadata": {},
   "outputs": [],
   "source": [
    "data.Region = pd.Categorical(data.Region)\n",
    "data['Reg'] = data.Region.cat.codes"
   ]
  },
  {
   "cell_type": "code",
   "execution_count": 15,
   "metadata": {},
   "outputs": [],
   "source": [
    "data.SchoolType = pd.Categorical(data.SchoolType)\n",
    "data['SType'] = data.SchoolType.cat.codes"
   ]
  },
  {
   "cell_type": "code",
   "execution_count": 16,
   "metadata": {},
   "outputs": [],
   "source": [
    "data.DivName = pd.Categorical(data.DivName)\n",
    "data['Div'] = data.DivName.cat.codes"
   ]
  },
  {
   "cell_type": "code",
   "execution_count": 26,
   "metadata": {},
   "outputs": [],
   "source": [
    "df = data.drop(['Province', 'MunicipalityORCity', 'Grid', 'PovertyCluster', 'LowerLimit', 'UpperLimit', 'Div', 'Mathematics', 'Filipino', 'AralinP', 'Science', 'English', 'Overall', 'DivName', 'Region', 'SchoolType', 'SchID', 'SchName', 'Clusters', 'DivisionCode','Lat', 'Long', 'Enrolled', 'Teachers'], axis=1)"
   ]
  },
  {
   "cell_type": "code",
   "execution_count": 27,
   "metadata": {},
   "outputs": [
    {
     "data": {
      "text/html": [
       "<div>\n",
       "<style scoped>\n",
       "    .dataframe tbody tr th:only-of-type {\n",
       "        vertical-align: middle;\n",
       "    }\n",
       "\n",
       "    .dataframe tbody tr th {\n",
       "        vertical-align: top;\n",
       "    }\n",
       "\n",
       "    .dataframe thead th {\n",
       "        text-align: right;\n",
       "    }\n",
       "</style>\n",
       "<table border=\"1\" class=\"dataframe\">\n",
       "  <thead>\n",
       "    <tr style=\"text-align: right;\">\n",
       "      <th></th>\n",
       "      <th>Internet</th>\n",
       "      <th>Ratio</th>\n",
       "      <th>Energized</th>\n",
       "      <th>PBOR</th>\n",
       "      <th>PovertyIncidence</th>\n",
       "      <th>Reg</th>\n",
       "      <th>SType</th>\n",
       "      <th>Average</th>\n",
       "    </tr>\n",
       "  </thead>\n",
       "  <tbody>\n",
       "    <tr>\n",
       "      <th>0</th>\n",
       "      <td>0</td>\n",
       "      <td>23</td>\n",
       "      <td>1</td>\n",
       "      <td>15781.0</td>\n",
       "      <td>20</td>\n",
       "      <td>1</td>\n",
       "      <td>3</td>\n",
       "      <td>1</td>\n",
       "    </tr>\n",
       "    <tr>\n",
       "      <th>1</th>\n",
       "      <td>1</td>\n",
       "      <td>37</td>\n",
       "      <td>1</td>\n",
       "      <td>15781.0</td>\n",
       "      <td>20</td>\n",
       "      <td>1</td>\n",
       "      <td>3</td>\n",
       "      <td>2</td>\n",
       "    </tr>\n",
       "    <tr>\n",
       "      <th>2</th>\n",
       "      <td>0</td>\n",
       "      <td>32</td>\n",
       "      <td>1</td>\n",
       "      <td>15781.0</td>\n",
       "      <td>20</td>\n",
       "      <td>1</td>\n",
       "      <td>3</td>\n",
       "      <td>2</td>\n",
       "    </tr>\n",
       "    <tr>\n",
       "      <th>3</th>\n",
       "      <td>0</td>\n",
       "      <td>20</td>\n",
       "      <td>1</td>\n",
       "      <td>15781.0</td>\n",
       "      <td>20</td>\n",
       "      <td>1</td>\n",
       "      <td>3</td>\n",
       "      <td>2</td>\n",
       "    </tr>\n",
       "    <tr>\n",
       "      <th>4</th>\n",
       "      <td>1</td>\n",
       "      <td>19</td>\n",
       "      <td>1</td>\n",
       "      <td>15781.0</td>\n",
       "      <td>20</td>\n",
       "      <td>1</td>\n",
       "      <td>3</td>\n",
       "      <td>2</td>\n",
       "    </tr>\n",
       "  </tbody>\n",
       "</table>\n",
       "</div>"
      ],
      "text/plain": [
       "   Internet  Ratio  Energized     PBOR  PovertyIncidence  Reg  SType  Average\n",
       "0         0     23          1  15781.0                20    1      3        1\n",
       "1         1     37          1  15781.0                20    1      3        2\n",
       "2         0     32          1  15781.0                20    1      3        2\n",
       "3         0     20          1  15781.0                20    1      3        2\n",
       "4         1     19          1  15781.0                20    1      3        2"
      ]
     },
     "execution_count": 27,
     "metadata": {},
     "output_type": "execute_result"
    }
   ],
   "source": [
    "df.head()"
   ]
  },
  {
   "cell_type": "code",
   "execution_count": 28,
   "metadata": {},
   "outputs": [
    {
     "name": "stdout",
     "output_type": "stream",
     "text": [
      "<class 'pandas.core.frame.DataFrame'>\n",
      "RangeIndex: 3377 entries, 0 to 3376\n",
      "Data columns (total 8 columns):\n",
      "Internet            3377 non-null int64\n",
      "Ratio               3377 non-null int64\n",
      "Energized           3377 non-null int64\n",
      "PBOR                3377 non-null float64\n",
      "PovertyIncidence    3377 non-null int64\n",
      "Reg                 3377 non-null int8\n",
      "SType               3377 non-null int8\n",
      "Average             3377 non-null int64\n",
      "dtypes: float64(1), int64(5), int8(2)\n",
      "memory usage: 165.0 KB\n"
     ]
    }
   ],
   "source": [
    "df.info()"
   ]
  },
  {
   "cell_type": "code",
   "execution_count": 29,
   "metadata": {},
   "outputs": [
    {
     "data": {
      "text/html": [
       "<div>\n",
       "<style scoped>\n",
       "    .dataframe tbody tr th:only-of-type {\n",
       "        vertical-align: middle;\n",
       "    }\n",
       "\n",
       "    .dataframe tbody tr th {\n",
       "        vertical-align: top;\n",
       "    }\n",
       "\n",
       "    .dataframe thead th {\n",
       "        text-align: right;\n",
       "    }\n",
       "</style>\n",
       "<table border=\"1\" class=\"dataframe\">\n",
       "  <thead>\n",
       "    <tr style=\"text-align: right;\">\n",
       "      <th></th>\n",
       "      <th>Internet</th>\n",
       "      <th>Ratio</th>\n",
       "      <th>Energized</th>\n",
       "      <th>PBOR</th>\n",
       "      <th>PovertyIncidence</th>\n",
       "      <th>Reg</th>\n",
       "      <th>SType</th>\n",
       "      <th>Average</th>\n",
       "    </tr>\n",
       "  </thead>\n",
       "  <tbody>\n",
       "    <tr>\n",
       "      <th>count</th>\n",
       "      <td>3377.000000</td>\n",
       "      <td>3377.000000</td>\n",
       "      <td>3377.000000</td>\n",
       "      <td>3377.000000</td>\n",
       "      <td>3377.000000</td>\n",
       "      <td>3377.000000</td>\n",
       "      <td>3377.000000</td>\n",
       "      <td>3377.000000</td>\n",
       "    </tr>\n",
       "    <tr>\n",
       "      <th>mean</th>\n",
       "      <td>0.410423</td>\n",
       "      <td>31.981344</td>\n",
       "      <td>0.910868</td>\n",
       "      <td>5889.640163</td>\n",
       "      <td>21.677821</td>\n",
       "      <td>8.459580</td>\n",
       "      <td>2.965650</td>\n",
       "      <td>1.773171</td>\n",
       "    </tr>\n",
       "    <tr>\n",
       "      <th>std</th>\n",
       "      <td>0.491983</td>\n",
       "      <td>10.282097</td>\n",
       "      <td>0.284977</td>\n",
       "      <td>5666.438632</td>\n",
       "      <td>12.920435</td>\n",
       "      <td>4.495546</td>\n",
       "      <td>0.276453</td>\n",
       "      <td>0.418843</td>\n",
       "    </tr>\n",
       "    <tr>\n",
       "      <th>min</th>\n",
       "      <td>0.000000</td>\n",
       "      <td>2.000000</td>\n",
       "      <td>0.000000</td>\n",
       "      <td>277.290000</td>\n",
       "      <td>0.000000</td>\n",
       "      <td>0.000000</td>\n",
       "      <td>0.000000</td>\n",
       "      <td>1.000000</td>\n",
       "    </tr>\n",
       "    <tr>\n",
       "      <th>25%</th>\n",
       "      <td>0.000000</td>\n",
       "      <td>25.000000</td>\n",
       "      <td>1.000000</td>\n",
       "      <td>277.290000</td>\n",
       "      <td>12.000000</td>\n",
       "      <td>5.000000</td>\n",
       "      <td>3.000000</td>\n",
       "      <td>2.000000</td>\n",
       "    </tr>\n",
       "    <tr>\n",
       "      <th>50%</th>\n",
       "      <td>0.000000</td>\n",
       "      <td>32.000000</td>\n",
       "      <td>1.000000</td>\n",
       "      <td>8982.000000</td>\n",
       "      <td>19.000000</td>\n",
       "      <td>8.000000</td>\n",
       "      <td>3.000000</td>\n",
       "      <td>2.000000</td>\n",
       "    </tr>\n",
       "    <tr>\n",
       "      <th>75%</th>\n",
       "      <td>1.000000</td>\n",
       "      <td>38.000000</td>\n",
       "      <td>1.000000</td>\n",
       "      <td>10732.000000</td>\n",
       "      <td>30.000000</td>\n",
       "      <td>12.000000</td>\n",
       "      <td>3.000000</td>\n",
       "      <td>2.000000</td>\n",
       "    </tr>\n",
       "    <tr>\n",
       "      <th>max</th>\n",
       "      <td>1.000000</td>\n",
       "      <td>177.000000</td>\n",
       "      <td>1.000000</td>\n",
       "      <td>15781.000000</td>\n",
       "      <td>66.000000</td>\n",
       "      <td>16.000000</td>\n",
       "      <td>3.000000</td>\n",
       "      <td>2.000000</td>\n",
       "    </tr>\n",
       "  </tbody>\n",
       "</table>\n",
       "</div>"
      ],
      "text/plain": [
       "          Internet        Ratio    Energized          PBOR  PovertyIncidence  \\\n",
       "count  3377.000000  3377.000000  3377.000000   3377.000000       3377.000000   \n",
       "mean      0.410423    31.981344     0.910868   5889.640163         21.677821   \n",
       "std       0.491983    10.282097     0.284977   5666.438632         12.920435   \n",
       "min       0.000000     2.000000     0.000000    277.290000          0.000000   \n",
       "25%       0.000000    25.000000     1.000000    277.290000         12.000000   \n",
       "50%       0.000000    32.000000     1.000000   8982.000000         19.000000   \n",
       "75%       1.000000    38.000000     1.000000  10732.000000         30.000000   \n",
       "max       1.000000   177.000000     1.000000  15781.000000         66.000000   \n",
       "\n",
       "               Reg        SType      Average  \n",
       "count  3377.000000  3377.000000  3377.000000  \n",
       "mean      8.459580     2.965650     1.773171  \n",
       "std       4.495546     0.276453     0.418843  \n",
       "min       0.000000     0.000000     1.000000  \n",
       "25%       5.000000     3.000000     2.000000  \n",
       "50%       8.000000     3.000000     2.000000  \n",
       "75%      12.000000     3.000000     2.000000  \n",
       "max      16.000000     3.000000     2.000000  "
      ]
     },
     "execution_count": 29,
     "metadata": {},
     "output_type": "execute_result"
    }
   ],
   "source": [
    "df.describe()"
   ]
  },
  {
   "cell_type": "code",
   "execution_count": 30,
   "metadata": {},
   "outputs": [],
   "source": [
    "X = df.drop('Average', axis=1) #independent columns\n",
    "y = df['Average']              #target column i.e price range   "
   ]
  },
  {
   "cell_type": "code",
   "execution_count": 31,
   "metadata": {},
   "outputs": [
    {
     "name": "stdout",
     "output_type": "stream",
     "text": [
      "              Specs         Score\n",
      "3              PBOR  42407.691088\n",
      "1             Ratio    198.351871\n",
      "5               Reg    133.565255\n",
      "2         Energized      4.769551\n",
      "4  PovertyIncidence      0.956041\n"
     ]
    }
   ],
   "source": [
    "#apply SelectKBest class to extract top 10 best features\n",
    "bestfeatures = SelectKBest(score_func=chi2, k=5)\n",
    "fit = bestfeatures.fit(X,y)\n",
    "dfscores = pd.DataFrame(fit.scores_)\n",
    "dfcolumns = pd.DataFrame(X.columns)\n",
    "#concat two dataframes for better visualization \n",
    "featureScores = pd.concat([dfcolumns,dfscores],axis=1)\n",
    "featureScores.columns = ['Specs','Score']  #naming the dataframe columns\n",
    "print(featureScores.nlargest(5,'Score'))  #print 10 best features"
   ]
  },
  {
   "cell_type": "markdown",
   "metadata": {},
   "source": [
    "## Feature Importance"
   ]
  },
  {
   "cell_type": "code",
   "execution_count": 32,
   "metadata": {},
   "outputs": [
    {
     "name": "stderr",
     "output_type": "stream",
     "text": [
      "/Users/EsaNavarro/anaconda2/lib/python2.7/site-packages/sklearn/ensemble/forest.py:246: FutureWarning: The default value of n_estimators will change from 10 in version 0.20 to 100 in 0.22.\n",
      "  \"10 in version 0.20 to 100 in 0.22.\", FutureWarning)\n"
     ]
    },
    {
     "name": "stdout",
     "output_type": "stream",
     "text": [
      "[0.02708237 0.54515046 0.02695232 0.04868542 0.22148051 0.12231778\n",
      " 0.00833114]\n"
     ]
    },
    {
     "data": {
      "image/png": "[encoded data removed]",
      "text/plain": [
       "<Figure size 432x288 with 1 Axes>"
      ]
     },
     "metadata": {
      "needs_background": "light"
     },
     "output_type": "display_data"
    }
   ],
   "source": [
    "model = ExtraTreesClassifier()\n",
    "model.fit(X,y)\n",
    "print(model.feature_importances_) #use inbuilt class feature_importances of tree based classifiers\n",
    "#plot graph of feature importances for better visualization\n",
    "feat_importances = pd.Series(model.feature_importances_, index=X.columns)\n",
    "feat_importances.nlargest(10).plot(kind='barh')\n",
    "plt.show()"
   ]
  },
  {
   "cell_type": "markdown",
   "metadata": {},
   "source": [
    "## Correlation Map"
   ]
  },
  {
   "cell_type": "code",
   "execution_count": 33,
   "metadata": {},
   "outputs": [
    {
     "data": {
      "image/png": "[encoded data removed]",
      "text/plain": [
       "<Figure size 1440x1440 with 2 Axes>"
      ]
     },
     "metadata": {
      "needs_background": "light"
     },
     "output_type": "display_data"
    }
   ],
   "source": [
    "corrmat = df.corr()\n",
    "top_corr_features = corrmat.index\n",
    "plt.figure(figsize=(20,20))\n",
    "#plot heat map\n",
    "g=sns.heatmap(data[top_corr_features].corr(),annot=True,cmap=\"RdYlGn\")"
   ]
  },
  {
   "cell_type": "code",
   "execution_count": 34,
   "metadata": {},
   "outputs": [
    {
     "data": {
      "text/html": [
       "<div>\n",
       "<style scoped>\n",
       "    .dataframe tbody tr th:only-of-type {\n",
       "        vertical-align: middle;\n",
       "    }\n",
       "\n",
       "    .dataframe tbody tr th {\n",
       "        vertical-align: top;\n",
       "    }\n",
       "\n",
       "    .dataframe thead th {\n",
       "        text-align: right;\n",
       "    }\n",
       "</style>\n",
       "<table border=\"1\" class=\"dataframe\">\n",
       "  <thead>\n",
       "    <tr style=\"text-align: right;\">\n",
       "      <th></th>\n",
       "      <th>Internet</th>\n",
       "      <th>Ratio</th>\n",
       "      <th>Energized</th>\n",
       "      <th>PBOR</th>\n",
       "      <th>PovertyIncidence</th>\n",
       "      <th>Reg</th>\n",
       "      <th>SType</th>\n",
       "      <th>Average</th>\n",
       "    </tr>\n",
       "  </thead>\n",
       "  <tbody>\n",
       "    <tr>\n",
       "      <th>Internet</th>\n",
       "      <td>1.000000</td>\n",
       "      <td>0.132092</td>\n",
       "      <td>0.184940</td>\n",
       "      <td>0.040970</td>\n",
       "      <td>-0.209714</td>\n",
       "      <td>-0.064281</td>\n",
       "      <td>0.014394</td>\n",
       "      <td>-0.019572</td>\n",
       "    </tr>\n",
       "    <tr>\n",
       "      <th>Ratio</th>\n",
       "      <td>0.132092</td>\n",
       "      <td>1.000000</td>\n",
       "      <td>0.000544</td>\n",
       "      <td>-0.076073</td>\n",
       "      <td>-0.056264</td>\n",
       "      <td>-0.016168</td>\n",
       "      <td>0.045417</td>\n",
       "      <td>-0.133316</td>\n",
       "    </tr>\n",
       "    <tr>\n",
       "      <th>Energized</th>\n",
       "      <td>0.184940</td>\n",
       "      <td>0.000544</td>\n",
       "      <td>1.000000</td>\n",
       "      <td>0.120965</td>\n",
       "      <td>-0.186314</td>\n",
       "      <td>-0.034142</td>\n",
       "      <td>0.017523</td>\n",
       "      <td>0.125880</td>\n",
       "    </tr>\n",
       "    <tr>\n",
       "      <th>PBOR</th>\n",
       "      <td>0.040970</td>\n",
       "      <td>-0.076073</td>\n",
       "      <td>0.120965</td>\n",
       "      <td>1.000000</td>\n",
       "      <td>-0.258074</td>\n",
       "      <td>-0.031631</td>\n",
       "      <td>0.000528</td>\n",
       "      <td>0.048002</td>\n",
       "    </tr>\n",
       "    <tr>\n",
       "      <th>PovertyIncidence</th>\n",
       "      <td>-0.209714</td>\n",
       "      <td>-0.056264</td>\n",
       "      <td>-0.186314</td>\n",
       "      <td>-0.258074</td>\n",
       "      <td>1.000000</td>\n",
       "      <td>0.254196</td>\n",
       "      <td>0.040189</td>\n",
       "      <td>-0.006064</td>\n",
       "    </tr>\n",
       "    <tr>\n",
       "      <th>Reg</th>\n",
       "      <td>-0.064281</td>\n",
       "      <td>-0.016168</td>\n",
       "      <td>-0.034142</td>\n",
       "      <td>-0.031631</td>\n",
       "      <td>0.254196</td>\n",
       "      <td>1.000000</td>\n",
       "      <td>0.043452</td>\n",
       "      <td>0.128688</td>\n",
       "    </tr>\n",
       "    <tr>\n",
       "      <th>SType</th>\n",
       "      <td>0.014394</td>\n",
       "      <td>0.045417</td>\n",
       "      <td>0.017523</td>\n",
       "      <td>0.000528</td>\n",
       "      <td>0.040189</td>\n",
       "      <td>0.043452</td>\n",
       "      <td>1.000000</td>\n",
       "      <td>0.004318</td>\n",
       "    </tr>\n",
       "    <tr>\n",
       "      <th>Average</th>\n",
       "      <td>-0.019572</td>\n",
       "      <td>-0.133316</td>\n",
       "      <td>0.125880</td>\n",
       "      <td>0.048002</td>\n",
       "      <td>-0.006064</td>\n",
       "      <td>0.128688</td>\n",
       "      <td>0.004318</td>\n",
       "      <td>1.000000</td>\n",
       "    </tr>\n",
       "  </tbody>\n",
       "</table>\n",
       "</div>"
      ],
      "text/plain": [
       "                  Internet     Ratio  Energized      PBOR  PovertyIncidence  \\\n",
       "Internet          1.000000  0.132092   0.184940  0.040970         -0.209714   \n",
       "Ratio             0.132092  1.000000   0.000544 -0.076073         -0.056264   \n",
       "Energized         0.184940  0.000544   1.000000  0.120965         -0.186314   \n",
       "PBOR              0.040970 -0.076073   0.120965  1.000000         -0.258074   \n",
       "PovertyIncidence -0.209714 -0.056264  -0.186314 -0.258074          1.000000   \n",
       "Reg              -0.064281 -0.016168  -0.034142 -0.031631          0.254196   \n",
       "SType             0.014394  0.045417   0.017523  0.000528          0.040189   \n",
       "Average          -0.019572 -0.133316   0.125880  0.048002         -0.006064   \n",
       "\n",
       "                       Reg     SType   Average  \n",
       "Internet         -0.064281  0.014394 -0.019572  \n",
       "Ratio            -0.016168  0.045417 -0.133316  \n",
       "Energized        -0.034142  0.017523  0.125880  \n",
       "PBOR             -0.031631  0.000528  0.048002  \n",
       "PovertyIncidence  0.254196  0.040189 -0.006064  \n",
       "Reg               1.000000  0.043452  0.128688  \n",
       "SType             0.043452  1.000000  0.004318  \n",
       "Average           0.128688  0.004318  1.000000  "
      ]
     },
     "execution_count": 34,
     "metadata": {},
     "output_type": "execute_result"
    }
   ],
   "source": [
    "corrmat"
   ]
  },
  {
   "cell_type": "code",
   "execution_count": 35,
   "metadata": {},
   "outputs": [
    {
     "data": {
      "image/png": "[encoded data removed]",
      "text/plain": [
       "<Figure size 576x720 with 1 Axes>"
      ]
     },
     "metadata": {
      "needs_background": "light"
     },
     "output_type": "display_data"
    }
   ],
   "source": [
    "# Feature sorted by correlation to Overall, from positive to negative\n",
    "corr = corrmat.sort_values('Average', ascending=False)\n",
    "plt.figure(figsize=(8,10))\n",
    "sns.barplot( corr.Average[1:], corr.index[1:], orient='h')\n",
    "plt.show()"
   ]
  },
  {
   "cell_type": "markdown",
   "metadata": {},
   "source": [
    "Correlation is not used in the prediction process, but provides information regarding the direction and strength of the relation between chosen predictors, such as electricity, provincial or regional location, and average class size to educational constructs with academic achievement. In spite of being useful, correlation is not an accurate technique to report if one variable is a good or a bad predictor of another variable. If two variables present a small or non-statistically significant correlation coefficient, it does not necessarily means that one can’t be used to predict the other."
   ]
  },
  {
   "cell_type": "markdown",
   "metadata": {},
   "source": [
    "# Ensemble Model"
   ]
  },
  {
   "cell_type": "markdown",
   "metadata": {},
   "source": [
    "Now we get to the machine learning section. We will start by encoding our categorical variables and splitting the data into a train and test set."
   ]
  },
  {
   "cell_type": "code",
   "execution_count": 41,
   "metadata": {},
   "outputs": [],
   "source": [
    "# Encoding our categorical columns in X\n",
    "labelEncoder = LabelEncoder()\n",
    "cat_columns = X.dtypes.pipe(lambda x: x[x == 'object']).index\n",
    "for col in cat_columns:\n",
    "    X[col] = labelEncoder.fit_transform(X[col])\n",
    "\n",
    "# Train Test Split\n",
    "X_train, X_test, y_train, y_test = train_test_split(X, y, test_size=0.25, random_state=100)"
   ]
  },
  {
   "cell_type": "code",
   "execution_count": 42,
   "metadata": {},
   "outputs": [
    {
     "name": "stdout",
     "output_type": "stream",
     "text": [
      "Results for: Random Forest\n",
      "\n",
      "[[ 72 112]\n",
      " [109 552]]\n",
      "              precision    recall  f1-score   support\n",
      "\n",
      "           1       0.40      0.39      0.39       184\n",
      "           2       0.83      0.84      0.83       661\n",
      "\n",
      "   micro avg       0.74      0.74      0.74       845\n",
      "   macro avg       0.61      0.61      0.61       845\n",
      "weighted avg       0.74      0.74      0.74       845\n",
      "\n",
      "accuracy is 0.7384615384615385\n",
      "\n",
      "\n",
      "\n",
      "Results for: Logistic Regression\n",
      "\n",
      "[[  4 180]\n",
      " [  7 654]]\n",
      "              precision    recall  f1-score   support\n",
      "\n",
      "           1       0.36      0.02      0.04       184\n",
      "           2       0.78      0.99      0.87       661\n",
      "\n",
      "   micro avg       0.78      0.78      0.78       845\n",
      "   macro avg       0.57      0.51      0.46       845\n",
      "weighted avg       0.69      0.78      0.69       845\n",
      "\n",
      "accuracy is 0.778698224852071\n",
      "\n",
      "\n",
      "\n",
      "Results for: Decision Tree\n",
      "\n",
      "[[ 84 100]\n",
      " [141 520]]\n",
      "              precision    recall  f1-score   support\n",
      "\n",
      "           1       0.37      0.46      0.41       184\n",
      "           2       0.84      0.79      0.81       661\n",
      "\n",
      "   micro avg       0.71      0.71      0.71       845\n",
      "   macro avg       0.61      0.62      0.61       845\n",
      "weighted avg       0.74      0.71      0.72       845\n",
      "\n",
      "accuracy is 0.714792899408284\n",
      "\n",
      "\n",
      "\n",
      "   accuracy score                model\n",
      "0        0.738462        Random Forest\n",
      "1        0.778698  Logistic Regression\n",
      "2        0.714793        Decision Tree\n"
     ]
    }
   ],
   "source": [
    "# Logistic Regression as baseline, then exploring tree-based methods\n",
    "\n",
    "keys = []\n",
    "scores = []\n",
    "models = {'Logistic Regression': LogisticRegression(), 'Decision Tree': DecisionTreeClassifier(),\n",
    "          'Random Forest': RandomForestClassifier(n_estimators=100, random_state=100)}\n",
    "\n",
    "for k,v in models.items():\n",
    "    mod = v\n",
    "    mod.fit(X_train, y_train)\n",
    "    pred = mod.predict(X_test)\n",
    "    print('Results for: ' + str(k) + '\\n')\n",
    "    print(confusion_matrix(y_test, pred))\n",
    "    print(classification_report(y_test, pred))\n",
    "    acc = accuracy_score(y_test, pred)\n",
    "    print(\"accuracy is \"+ str(acc)) \n",
    "    print('\\n' + '\\n')\n",
    "    keys.append(k)\n",
    "    scores.append(acc)\n",
    "    table = pd.DataFrame({'model':keys, 'accuracy score':scores})\n",
    "\n",
    "print(table)"
   ]
  },
  {
   "cell_type": "markdown",
   "metadata": {},
   "source": [
    "The Random Forest and Logistic Regression Classifier performed best. Let's explore the number of estimators in the forest further. A general rule is that the RFC performs better when the amount of estimators increases."
   ]
  },
  {
   "cell_type": "code",
   "execution_count": 43,
   "metadata": {},
   "outputs": [
    {
     "data": {
      "image/png": "[encoded data removed]",
      "text/plain": [
       "<Figure size 432x288 with 1 Axes>"
      ]
     },
     "metadata": {
      "needs_background": "light"
     },
     "output_type": "display_data"
    }
   ],
   "source": [
    "# Exploring the number of estimators in the random forest\n",
    "score = []\n",
    "est = []\n",
    "estimators = [1, 10, 50, 100, 200, 300, 400, 500]\n",
    "for e in estimators:\n",
    "    rfc1 = RandomForestClassifier(n_estimators=e, random_state=100)\n",
    "    pred1 = rfc1.fit(X_train, y_train).predict(X_test)\n",
    "    accuracy = accuracy_score(y_test, pred1)\n",
    "    score.append(accuracy)\n",
    "    est.append(e)\n",
    "plot = sns.pointplot(x=est, y=score)\n",
    "plot.set(xlabel='Number of estimators', ylabel='Accuracy', \n",
    "         title='Accuracy score of RFC per # of estimators')\n",
    "plt.show()"
   ]
  },
  {
   "cell_type": "markdown",
   "metadata": {},
   "source": [
    "And indeed, the RFC performs better when the number of estimators increases. However, it plateaus at 100 estimators. In the for loop before I used 300 estimators which is a general number I like to start trying it out with. Apparently 100 estimators is enough for this dataset. If you start experimenting on a very large dataset, having less estimators will save you a lot of running time.\n",
    "\n",
    "We can also explore another variable like the minimum number of samples required to be at a leaf node."
   ]
  },
  {
   "cell_type": "code",
   "execution_count": 44,
   "metadata": {},
   "outputs": [
    {
     "data": {
      "image/png": "[encoded data removed]",
      "text/plain": [
       "<Figure size 432x288 with 1 Axes>"
      ]
     },
     "metadata": {
      "needs_background": "light"
     },
     "output_type": "display_data"
    }
   ],
   "source": [
    "# Exploring minimum leaf samples\n",
    "score = []\n",
    "leaf = []\n",
    "leaf_options = [1, 5, 10, 50, 100, 200]\n",
    "for l in leaf_options:\n",
    "    rfc2 = RandomForestClassifier(n_estimators=200, random_state=100, min_samples_leaf=l)\n",
    "    pred2 = rfc2.fit(X_train, y_train).predict(X_test)\n",
    "    accuracy = accuracy_score(y_test, pred2)\n",
    "    score.append(accuracy)\n",
    "    leaf.append(l)\n",
    "plot = sns.pointplot(x=leaf, y=score)\n",
    "plot.set(xlabel='Number of minimum leaf samples', ylabel='Accuracy', \n",
    "         title='Accuracy score of RFC per # of minimum leaf samples')\n",
    "plt.show()"
   ]
  },
  {
   "cell_type": "markdown",
   "metadata": {},
   "source": [
    "Extreme Gradient Boosting Many Kaggle competitions have been won by using Extreme Gradient Boosting. I have never used it so let's give it a try. "
   ]
  },
  {
   "cell_type": "code",
   "execution_count": 45,
   "metadata": {},
   "outputs": [
    {
     "name": "stdout",
     "output_type": "stream",
     "text": [
      "[[ 42 142]\n",
      " [ 26 635]]\n",
      "              precision    recall  f1-score   support\n",
      "\n",
      "           1       0.62      0.23      0.33       184\n",
      "           2       0.82      0.96      0.88       661\n",
      "\n",
      "   micro avg       0.80      0.80      0.80       845\n",
      "   macro avg       0.72      0.59      0.61       845\n",
      "weighted avg       0.77      0.80      0.76       845\n",
      "\n",
      "accuracy is 0.8011834319526627\n"
     ]
    }
   ],
   "source": [
    "xgb = XGBClassifier(seed=52)\n",
    "pred = xgb.fit(X_train, y_train).predict(X_test)\n",
    "print(confusion_matrix(y_test, pred))\n",
    "print(classification_report(y_test, pred))\n",
    "print(\"accuracy is \"+ str(accuracy_score(y_test, pred)))"
   ]
  },
  {
   "cell_type": "code",
   "execution_count": 46,
   "metadata": {},
   "outputs": [
    {
     "data": {
      "image/png": "[encoded data removed]",
      "text/plain": [
       "<Figure size 432x288 with 1 Axes>"
      ]
     },
     "metadata": {
      "needs_background": "light"
     },
     "output_type": "display_data"
    }
   ],
   "source": [
    "plot_importance(xgb)\n",
    "plt.rcParams['figure.figsize']=(10,5)\n",
    "plt.show()"
   ]
  },
  {
   "cell_type": "markdown",
   "metadata": {},
   "source": [
    "Next step is to try and improve the performance of our XGB Classifier by trying some different parameters and using a grid search approach."
   ]
  },
  {
   "cell_type": "code",
   "execution_count": 47,
   "metadata": {},
   "outputs": [
    {
     "name": "stdout",
     "output_type": "stream",
     "text": [
      "    accuracy  learning_rate  max_depth  n_estimators\n",
      "19  0.814201           0.10          3           200\n",
      "11  0.808284           1.00          2           200\n",
      "30  0.807101           0.10          4           150\n",
      "18  0.807101           0.10          3           150\n",
      "31  0.807101           0.10          4           200\n",
      "27  0.805917           0.01          4           200\n",
      "5   0.805917           0.10          2           100\n",
      "10  0.804734           1.00          2           150\n",
      "26  0.804734           0.01          4           150\n",
      "16  0.803550           0.10          3            50\n",
      "7   0.803550           0.10          2           200\n",
      "6   0.802367           0.10          2           150\n",
      "8   0.802367           1.00          2            50\n",
      "17  0.801183           0.10          3           100\n",
      "20  0.800000           1.00          3            50\n",
      "25  0.800000           0.01          4           100\n",
      "28  0.798817           0.10          4            50\n",
      "9   0.797633           1.00          2           100\n",
      "29  0.797633           0.10          4           100\n",
      "15  0.796450           0.01          3           200\n",
      "24  0.795266           0.01          4            50\n",
      "14  0.792899           0.01          3           150\n",
      "0   0.790533           0.01          2            50\n",
      "12  0.789349           0.01          3            50\n",
      "4   0.789349           0.10          2            50\n",
      "13  0.788166           0.01          3           100\n",
      "21  0.786982           1.00          3           100\n",
      "1   0.786982           0.01          2           100\n",
      "3   0.786982           0.01          2           200\n",
      "2   0.786982           0.01          2           150\n",
      "22  0.785799           1.00          3           150\n",
      "23  0.779882           1.00          3           200\n",
      "32  0.775148           1.00          4            50\n",
      "34  0.760947           1.00          4           150\n",
      "35  0.759763           1.00          4           200\n",
      "33  0.751479           1.00          4           100\n"
     ]
    }
   ],
   "source": [
    "# Let's try to improve the accuracy of the XGClassifier with a grid search approach.\n",
    "\n",
    "d_values = []\n",
    "l_values = []\n",
    "n_values = []\n",
    "acc_values = []\n",
    "depth = [2, 3, 4]\n",
    "learning_Rate = [0.01, 0.1, 1]\n",
    "n_estimators = [50, 100, 150, 200]\n",
    "for d in depth:\n",
    "    for l in learning_Rate:\n",
    "        for n in n_estimators:\n",
    "            xgb = XGBClassifier(max_depth=d, learning_rate=l, n_estimators=n, seed=52)\n",
    "            pred = xgb.fit(X_train, y_train).predict(X_test)\n",
    "            acc = accuracy_score(y_test, pred)\n",
    "            d_values.append(d)\n",
    "            l_values.append(l)\n",
    "            n_values.append(n)\n",
    "            acc_values.append(acc)\n",
    "            \n",
    "dict = {'max_depth':d_values, 'learning_rate':l_values, 'n_estimators':n_values,\n",
    "       'accuracy':acc_values}\n",
    "\n",
    "output = pd.DataFrame.from_dict(data=dict)\n",
    "print(output.sort_values(by='accuracy', ascending=False))"
   ]
  },
  {
   "cell_type": "markdown",
   "metadata": {},
   "source": [
    "Accuracy only improved slight.\n",
    "\n",
    "\n",
    "The XGB model now also performs better than the random forest classifier which capped at 0.847826.\n",
    "\n",
    "Let's explore the important features in this 'best' model."
   ]
  },
  {
   "cell_type": "code",
   "execution_count": 48,
   "metadata": {},
   "outputs": [
    {
     "name": "stdout",
     "output_type": "stream",
     "text": [
      "[[ 54 130]\n",
      " [ 36 625]]\n",
      "              precision    recall  f1-score   support\n",
      "\n",
      "           1       0.60      0.29      0.39       184\n",
      "           2       0.83      0.95      0.88       661\n",
      "\n",
      "   micro avg       0.80      0.80      0.80       845\n",
      "   macro avg       0.71      0.62      0.64       845\n",
      "weighted avg       0.78      0.80      0.78       845\n",
      "\n",
      "accuracy is 0.8035502958579882\n"
     ]
    },
    {
     "data": {
      "image/png": "[encoded data removed]",
      "text/plain": [
       "<Figure size 720x360 with 1 Axes>"
      ]
     },
     "metadata": {
      "needs_background": "light"
     },
     "output_type": "display_data"
    }
   ],
   "source": [
    "# Building the best XGB and looking at feature importances\n",
    "\n",
    "xgb2 = XGBClassifier(max_depth=4, learning_rate=0.1, n_estimators=300, seed=52)\n",
    "pred = xgb2.fit(X_train, y_train).predict(X_test)\n",
    "print(confusion_matrix(y_test, pred))\n",
    "print(classification_report(y_test, pred))\n",
    "print(\"accuracy is \"+ str(accuracy_score(y_test, pred)))   \n",
    "\n",
    "plot_importance(xgb2)\n",
    "plt.rcParams['figure.figsize']=(10,5)\n",
    "plt.show()"
   ]
  },
  {
   "cell_type": "markdown",
   "metadata": {},
   "source": [
    "Let's explore the feature importances of our best Random Forest model as well."
   ]
  },
  {
   "cell_type": "code",
   "execution_count": 49,
   "metadata": {},
   "outputs": [
    {
     "data": {
      "image/png": "[encoded data removed]",
      "text/plain": [
       "<Figure size 720x360 with 1 Axes>"
      ]
     },
     "metadata": {
      "needs_background": "light"
     },
     "output_type": "display_data"
    }
   ],
   "source": [
    "rfc = RandomForestClassifier(n_estimators=300, random_state=52)\n",
    "pred = rfc.fit(X_train, y_train).predict(X_test)\n",
    "dn = {'features':X.columns, 'score':rfc.feature_importances_}\n",
    "df = pd.DataFrame.from_dict(data=dn).sort_values(by='score', ascending=False)\n",
    "plot = sns.barplot(x='score', y='features', data=df, orient='h')\n",
    "plot.set(xlabel='Score', ylabel='Features', \n",
    "         title='Feature Importance of Random Forest Classifier')\n",
    "plt.setp(plot.get_xticklabels(), rotation=90)\n",
    "plt.show()"
   ]
  },
  {
   "cell_type": "markdown",
   "metadata": {},
   "source": [
    "Ratio (or average class size) and Div (or locatio) top both RFC and XGB. It was followed by Poverty Incidence, PBOR (budget per student), Region, and School Type. The school being in the city or not and having electricity and internet have the least feature importance."
   ]
  }
 ],
 "metadata": {
  "kernelspec": {
   "display_name": "Python 2",
   "language": "python",
   "name": "python2"
  },
  "language_info": {
   "codemirror_mode": {
    "name": "ipython",
    "version": 2
   },
   "file_extension": ".py",
   "mimetype": "text/x-python",
   "name": "python",
   "nbconvert_exporter": "python",
   "pygments_lexer": "ipython2",
   "version": "2.7.16"
  }
 },
 "nbformat": 4,
 "nbformat_minor": 2
}
