{
 "cells": [
  {
   "cell_type": "code",
   "execution_count": 1,
   "metadata": {},
   "outputs": [],
   "source": [
    "import pandas as pd\n",
    "import seaborn as sns\n",
    "import matplotlib.pyplot as plt\n",
    "import numpy as np"
   ]
  },
  {
   "cell_type": "code",
   "execution_count": 4,
   "metadata": {},
   "outputs": [],
   "source": [
    "pd.options.display.max_columns = 999\n",
    "pd.options.display.max_rows = 999"
   ]
  },
  {
   "cell_type": "code",
   "execution_count": 2,
   "metadata": {},
   "outputs": [],
   "source": [
    "es_data = pd.read_csv(\"DepEd_ES.csv\")\n",
    "ss_data = pd.read_csv(\"DepEd_SS.csv\")"
   ]
  },
  {
   "cell_type": "code",
   "execution_count": 5,
   "metadata": {},
   "outputs": [
    {
     "data": {
      "text/html": [
       "<div>\n",
       "<style scoped>\n",
       "    .dataframe tbody tr th:only-of-type {\n",
       "        vertical-align: middle;\n",
       "    }\n",
       "\n",
       "    .dataframe tbody tr th {\n",
       "        vertical-align: top;\n",
       "    }\n",
       "\n",
       "    .dataframe thead th {\n",
       "        text-align: right;\n",
       "    }\n",
       "</style>\n",
       "<table border=\"1\" class=\"dataframe\">\n",
       "  <thead>\n",
       "    <tr style=\"text-align: right;\">\n",
       "      <th></th>\n",
       "      <th>SchID</th>\n",
       "      <th>SchName</th>\n",
       "      <th>DivName</th>\n",
       "      <th>DivisionCode</th>\n",
       "      <th>Province</th>\n",
       "      <th>MunicipalityORCity</th>\n",
       "      <th>Clusters</th>\n",
       "      <th>Region</th>\n",
       "      <th>Filipino</th>\n",
       "      <th>AralinP</th>\n",
       "      <th>Mathematics</th>\n",
       "      <th>Science</th>\n",
       "      <th>English</th>\n",
       "      <th>Overall</th>\n",
       "      <th>Internet</th>\n",
       "      <th>Lat</th>\n",
       "      <th>Long</th>\n",
       "      <th>Enrolled</th>\n",
       "      <th>Teachers</th>\n",
       "      <th>Ratio</th>\n",
       "      <th>Energized</th>\n",
       "      <th>Grid</th>\n",
       "      <th>SchoolType</th>\n",
       "      <th>PBOR</th>\n",
       "      <th>PovertyCluster</th>\n",
       "      <th>PovertyIncidence</th>\n",
       "      <th>LowerLimit</th>\n",
       "      <th>UpperLimit</th>\n",
       "    </tr>\n",
       "  </thead>\n",
       "  <tbody>\n",
       "    <tr>\n",
       "      <th>0</th>\n",
       "      <td>134968</td>\n",
       "      <td>Bangued East CS</td>\n",
       "      <td>Abra</td>\n",
       "      <td>N01</td>\n",
       "      <td>ABRA</td>\n",
       "      <td>BANGUED (Capital)</td>\n",
       "      <td>4</td>\n",
       "      <td>CAR</td>\n",
       "      <td>44.0141</td>\n",
       "      <td>37.4648</td>\n",
       "      <td>52.2887</td>\n",
       "      <td>36.1268</td>\n",
       "      <td>41.7606</td>\n",
       "      <td>42.3310</td>\n",
       "      <td>0</td>\n",
       "      <td>17.5988</td>\n",
       "      <td>120.616</td>\n",
       "      <td>443</td>\n",
       "      <td>19</td>\n",
       "      <td>23</td>\n",
       "      <td>1</td>\n",
       "      <td>1</td>\n",
       "      <td>School with no Annexes</td>\n",
       "      <td>15781.0</td>\n",
       "      <td>3</td>\n",
       "      <td>20</td>\n",
       "      <td>16</td>\n",
       "      <td>53</td>\n",
       "    </tr>\n",
       "    <tr>\n",
       "      <th>1</th>\n",
       "      <td>135008</td>\n",
       "      <td>Siwasiw ES</td>\n",
       "      <td>Abra</td>\n",
       "      <td>N01</td>\n",
       "      <td>ABRA</td>\n",
       "      <td>BUCAY</td>\n",
       "      <td>5</td>\n",
       "      <td>CAR</td>\n",
       "      <td>64.4022</td>\n",
       "      <td>64.7283</td>\n",
       "      <td>63.2609</td>\n",
       "      <td>69.8370</td>\n",
       "      <td>65.0543</td>\n",
       "      <td>65.4565</td>\n",
       "      <td>1</td>\n",
       "      <td>17.5412</td>\n",
       "      <td>120.742</td>\n",
       "      <td>225</td>\n",
       "      <td>6</td>\n",
       "      <td>37</td>\n",
       "      <td>1</td>\n",
       "      <td>1</td>\n",
       "      <td>School with no Annexes</td>\n",
       "      <td>15781.0</td>\n",
       "      <td>3</td>\n",
       "      <td>20</td>\n",
       "      <td>16</td>\n",
       "      <td>53</td>\n",
       "    </tr>\n",
       "    <tr>\n",
       "      <th>2</th>\n",
       "      <td>134995</td>\n",
       "      <td>Layugan ES</td>\n",
       "      <td>Abra</td>\n",
       "      <td>N01</td>\n",
       "      <td>ABRA</td>\n",
       "      <td>BUCAY</td>\n",
       "      <td>5</td>\n",
       "      <td>CAR</td>\n",
       "      <td>67.8049</td>\n",
       "      <td>75.9756</td>\n",
       "      <td>68.7805</td>\n",
       "      <td>81.3415</td>\n",
       "      <td>86.2195</td>\n",
       "      <td>76.0244</td>\n",
       "      <td>0</td>\n",
       "      <td>17.5028</td>\n",
       "      <td>120.706</td>\n",
       "      <td>295</td>\n",
       "      <td>9</td>\n",
       "      <td>32</td>\n",
       "      <td>1</td>\n",
       "      <td>1</td>\n",
       "      <td>School with no Annexes</td>\n",
       "      <td>15781.0</td>\n",
       "      <td>3</td>\n",
       "      <td>20</td>\n",
       "      <td>16</td>\n",
       "      <td>53</td>\n",
       "    </tr>\n",
       "    <tr>\n",
       "      <th>3</th>\n",
       "      <td>135182</td>\n",
       "      <td>Ducligan ES</td>\n",
       "      <td>Abra</td>\n",
       "      <td>N01</td>\n",
       "      <td>ABRA</td>\n",
       "      <td>BUCLOC</td>\n",
       "      <td>6</td>\n",
       "      <td>CAR</td>\n",
       "      <td>72.8846</td>\n",
       "      <td>73.8462</td>\n",
       "      <td>69.8077</td>\n",
       "      <td>58.8462</td>\n",
       "      <td>76.3462</td>\n",
       "      <td>70.3462</td>\n",
       "      <td>0</td>\n",
       "      <td>17.4386</td>\n",
       "      <td>120.803</td>\n",
       "      <td>248</td>\n",
       "      <td>12</td>\n",
       "      <td>20</td>\n",
       "      <td>1</td>\n",
       "      <td>1</td>\n",
       "      <td>School with no Annexes</td>\n",
       "      <td>15781.0</td>\n",
       "      <td>3</td>\n",
       "      <td>20</td>\n",
       "      <td>16</td>\n",
       "      <td>53</td>\n",
       "    </tr>\n",
       "    <tr>\n",
       "      <th>4</th>\n",
       "      <td>135022</td>\n",
       "      <td>Pacac ES</td>\n",
       "      <td>Abra</td>\n",
       "      <td>N01</td>\n",
       "      <td>ABRA</td>\n",
       "      <td>DOLORES</td>\n",
       "      <td>6</td>\n",
       "      <td>CAR</td>\n",
       "      <td>72.7083</td>\n",
       "      <td>80.4167</td>\n",
       "      <td>83.3333</td>\n",
       "      <td>78.7500</td>\n",
       "      <td>78.5417</td>\n",
       "      <td>78.7500</td>\n",
       "      <td>1</td>\n",
       "      <td>17.6633</td>\n",
       "      <td>120.718</td>\n",
       "      <td>76</td>\n",
       "      <td>4</td>\n",
       "      <td>19</td>\n",
       "      <td>1</td>\n",
       "      <td>1</td>\n",
       "      <td>School with no Annexes</td>\n",
       "      <td>15781.0</td>\n",
       "      <td>3</td>\n",
       "      <td>20</td>\n",
       "      <td>16</td>\n",
       "      <td>53</td>\n",
       "    </tr>\n",
       "  </tbody>\n",
       "</table>\n",
       "</div>"
      ],
      "text/plain": [
       "    SchID          SchName DivName DivisionCode Province MunicipalityORCity  \\\n",
       "0  134968  Bangued East CS    Abra          N01     ABRA  BANGUED (Capital)   \n",
       "1  135008       Siwasiw ES    Abra          N01     ABRA              BUCAY   \n",
       "2  134995       Layugan ES    Abra          N01     ABRA              BUCAY   \n",
       "3  135182      Ducligan ES    Abra          N01     ABRA             BUCLOC   \n",
       "4  135022         Pacac ES    Abra          N01     ABRA            DOLORES   \n",
       "\n",
       "   Clusters Region  Filipino  AralinP  Mathematics  Science  English  Overall  \\\n",
       "0         4    CAR   44.0141  37.4648      52.2887  36.1268  41.7606  42.3310   \n",
       "1         5    CAR   64.4022  64.7283      63.2609  69.8370  65.0543  65.4565   \n",
       "2         5    CAR   67.8049  75.9756      68.7805  81.3415  86.2195  76.0244   \n",
       "3         6    CAR   72.8846  73.8462      69.8077  58.8462  76.3462  70.3462   \n",
       "4         6    CAR   72.7083  80.4167      83.3333  78.7500  78.5417  78.7500   \n",
       "\n",
       "   Internet      Lat     Long  Enrolled  Teachers  Ratio  Energized  Grid  \\\n",
       "0         0  17.5988  120.616       443        19     23          1     1   \n",
       "1         1  17.5412  120.742       225         6     37          1     1   \n",
       "2         0  17.5028  120.706       295         9     32          1     1   \n",
       "3         0  17.4386  120.803       248        12     20          1     1   \n",
       "4         1  17.6633  120.718        76         4     19          1     1   \n",
       "\n",
       "               SchoolType     PBOR  PovertyCluster  PovertyIncidence  \\\n",
       "0  School with no Annexes  15781.0               3                20   \n",
       "1  School with no Annexes  15781.0               3                20   \n",
       "2  School with no Annexes  15781.0               3                20   \n",
       "3  School with no Annexes  15781.0               3                20   \n",
       "4  School with no Annexes  15781.0               3                20   \n",
       "\n",
       "   LowerLimit  UpperLimit  \n",
       "0          16          53  \n",
       "1          16          53  \n",
       "2          16          53  \n",
       "3          16          53  \n",
       "4          16          53  "
      ]
     },
     "execution_count": 5,
     "metadata": {},
     "output_type": "execute_result"
    }
   ],
   "source": [
    "es_data.head()"
   ]
  },
  {
   "cell_type": "markdown",
   "metadata": {},
   "source": [
    "# Effect of Being Energized"
   ]
  },
  {
   "cell_type": "code",
   "execution_count": 49,
   "metadata": {},
   "outputs": [
    {
     "data": {
      "text/plain": [
       "<seaborn.axisgrid.FacetGrid at 0x1a0f4b77f0>"
      ]
     },
     "execution_count": 49,
     "metadata": {},
     "output_type": "execute_result"
    },
    {
     "data": {
      "image/png": "[encoded data removed]",
      "text/plain": [
       "<matplotlib.figure.Figure at 0x1a1d0e2128>"
      ]
     },
     "metadata": {},
     "output_type": "display_data"
    }
   ],
   "source": [
    "sns.catplot(data=es_data,\n",
    "            x='Energized',\n",
    "            y='Overall',\n",
    "            kind='box',\n",
    "            height=10)"
   ]
  },
  {
   "cell_type": "code",
   "execution_count": 12,
   "metadata": {},
   "outputs": [
    {
     "data": {
      "text/html": [
       "<div>\n",
       "<style scoped>\n",
       "    .dataframe tbody tr th:only-of-type {\n",
       "        vertical-align: middle;\n",
       "    }\n",
       "\n",
       "    .dataframe tbody tr th {\n",
       "        vertical-align: top;\n",
       "    }\n",
       "\n",
       "    .dataframe thead th {\n",
       "        text-align: right;\n",
       "    }\n",
       "</style>\n",
       "<table border=\"1\" class=\"dataframe\">\n",
       "  <thead>\n",
       "    <tr style=\"text-align: right;\">\n",
       "      <th>Energized</th>\n",
       "      <th>0</th>\n",
       "      <th>1</th>\n",
       "    </tr>\n",
       "  </thead>\n",
       "  <tbody>\n",
       "    <tr>\n",
       "      <th>count</th>\n",
       "      <td>301.000000</td>\n",
       "      <td>3076.000000</td>\n",
       "    </tr>\n",
       "    <tr>\n",
       "      <th>mean</th>\n",
       "      <td>68.067056</td>\n",
       "      <td>74.858395</td>\n",
       "    </tr>\n",
       "    <tr>\n",
       "      <th>std</th>\n",
       "      <td>15.153649</td>\n",
       "      <td>13.742581</td>\n",
       "    </tr>\n",
       "    <tr>\n",
       "      <th>min</th>\n",
       "      <td>26.000000</td>\n",
       "      <td>26.635100</td>\n",
       "    </tr>\n",
       "    <tr>\n",
       "      <th>25%</th>\n",
       "      <td>58.437500</td>\n",
       "      <td>67.557025</td>\n",
       "    </tr>\n",
       "    <tr>\n",
       "      <th>50%</th>\n",
       "      <td>69.526600</td>\n",
       "      <td>77.870200</td>\n",
       "    </tr>\n",
       "    <tr>\n",
       "      <th>75%</th>\n",
       "      <td>80.229700</td>\n",
       "      <td>85.219075</td>\n",
       "    </tr>\n",
       "    <tr>\n",
       "      <th>max</th>\n",
       "      <td>93.736800</td>\n",
       "      <td>97.500000</td>\n",
       "    </tr>\n",
       "  </tbody>\n",
       "</table>\n",
       "</div>"
      ],
      "text/plain": [
       "Energized           0            1\n",
       "count      301.000000  3076.000000\n",
       "mean        68.067056    74.858395\n",
       "std         15.153649    13.742581\n",
       "min         26.000000    26.635100\n",
       "25%         58.437500    67.557025\n",
       "50%         69.526600    77.870200\n",
       "75%         80.229700    85.219075\n",
       "max         93.736800    97.500000"
      ]
     },
     "execution_count": 12,
     "metadata": {},
     "output_type": "execute_result"
    }
   ],
   "source": [
    "pd.pivot(data=es_data,\n",
    "         index='SchID',\n",
    "         columns='Energized',\n",
    "         values='Overall').describe()"
   ]
  },
  {
   "cell_type": "code",
   "execution_count": 13,
   "metadata": {},
   "outputs": [
    {
     "data": {
      "text/plain": [
       "0.1223021582733813"
      ]
     },
     "execution_count": 13,
     "metadata": {},
     "output_type": "execute_result"
    }
   ],
   "source": [
    "(78 - 69.5)/69.5"
   ]
  },
  {
   "cell_type": "markdown",
   "metadata": {},
   "source": [
    "### Insights:\n",
    "- Around 10% of the elementary schools in the data don't have electricity.\n",
    "- On average, those who do have electricity perform 12% better in their overall NAT scores than those without."
   ]
  },
  {
   "cell_type": "markdown",
   "metadata": {},
   "source": [
    "### per Subject Analysis"
   ]
  },
  {
   "cell_type": "code",
   "execution_count": 14,
   "metadata": {},
   "outputs": [
    {
     "data": {
      "text/plain": [
       "Index(['SchID', 'SchName', 'DivName', 'DivisionCode', 'Province',\n",
       "       'MunicipalityORCity', 'Clusters', 'Region', 'Filipino', 'AralinP',\n",
       "       'Mathematics', 'Science', 'English', 'Overall', 'Internet', 'Lat',\n",
       "       'Long', 'Enrolled', 'Teachers', 'Ratio', 'Energized', 'Grid',\n",
       "       'SchoolType', 'PBOR', 'PovertyCluster', 'PovertyIncidence',\n",
       "       'LowerLimit', 'UpperLimit'],\n",
       "      dtype='object')"
      ]
     },
     "execution_count": 14,
     "metadata": {},
     "output_type": "execute_result"
    }
   ],
   "source": [
    "es_data.columns"
   ]
  },
  {
   "cell_type": "code",
   "execution_count": 20,
   "metadata": {},
   "outputs": [
    {
     "name": "stdout",
     "output_type": "stream",
     "text": [
      "Score Difference for Filipino\n"
     ]
    },
    {
     "data": {
      "image/png": "[encoded data removed]",
      "text/plain": [
       "<matplotlib.figure.Figure at 0x1a1b6414e0>"
      ]
     },
     "metadata": {},
     "output_type": "display_data"
    },
    {
     "name": "stdout",
     "output_type": "stream",
     "text": [
      "Score Difference for AralinP\n"
     ]
    },
    {
     "data": {
      "image/png": "[encoded data removed]",
      "text/plain": [
       "<matplotlib.figure.Figure at 0x1a1bb7d320>"
      ]
     },
     "metadata": {},
     "output_type": "display_data"
    },
    {
     "name": "stdout",
     "output_type": "stream",
     "text": [
      "Score Difference for Mathematics\n"
     ]
    },
    {
     "data": {
      "image/png": "[encoded data removed]",
      "text/plain": [
       "<matplotlib.figure.Figure at 0x1a1b931630>"
      ]
     },
     "metadata": {},
     "output_type": "display_data"
    },
    {
     "name": "stdout",
     "output_type": "stream",
     "text": [
      "Score Difference for Science\n"
     ]
    },
    {
     "data": {
      "image/png": "[encoded data removed]",
      "text/plain": [
       "<matplotlib.figure.Figure at 0x1a1d11ada0>"
      ]
     },
     "metadata": {},
     "output_type": "display_data"
    },
    {
     "name": "stdout",
     "output_type": "stream",
     "text": [
      "Score Difference for English\n"
     ]
    },
    {
     "data": {
      "image/png": "[encoded data removed]",
      "text/plain": [
       "<matplotlib.figure.Figure at 0x1a1bb7d908>"
      ]
     },
     "metadata": {},
     "output_type": "display_data"
    }
   ],
   "source": [
    "subjects = ['Filipino', 'AralinP', 'Mathematics', 'Science', 'English']\n",
    "for subject in subjects:\n",
    "    print (f'Score Difference for {subject}')\n",
    "    sns.catplot(data=es_data,\n",
    "                x='Energized',\n",
    "                y=subject,\n",
    "                kind='box',\n",
    "                height=10)\n",
    "    plt.show()\n",
    "    "
   ]
  },
  {
   "cell_type": "markdown",
   "metadata": {},
   "source": [
    "It is clear that for individual subjects, energized schools perform better."
   ]
  },
  {
   "cell_type": "code",
   "execution_count": 24,
   "metadata": {},
   "outputs": [
    {
     "data": {
      "text/plain": [
       "Energized\n",
       "0    71.9444\n",
       "1    80.9259\n",
       "Name: 50%, dtype: float64"
      ]
     },
     "execution_count": 24,
     "metadata": {},
     "output_type": "execute_result"
    }
   ],
   "source": [
    "pd.pivot(data=es_data,\n",
    "         index='SchID',\n",
    "         columns='Energized',\n",
    "         values=subject).describe().loc['50%']"
   ]
  },
  {
   "cell_type": "code",
   "execution_count": 34,
   "metadata": {},
   "outputs": [
    {
     "name": "stdout",
     "output_type": "stream",
     "text": [
      "Median scores for Filipino\n",
      "Energized\n",
      "0    68.125\n",
      "1    73.750\n",
      "Name: 50%, dtype: float64\n",
      "8.256880733944953\n",
      "Median scores for AralinP\n",
      "Energized\n",
      "0    71.07140\n",
      "1    78.36585\n",
      "Name: 50%, dtype: float64\n",
      "10.263551864744464\n",
      "Median scores for Mathematics\n",
      "Energized\n",
      "0    74.3293\n",
      "1    82.2638\n",
      "Name: 50%, dtype: float64\n",
      "10.674794461941657\n",
      "Median scores for Science\n",
      "Energized\n",
      "0    65.2778\n",
      "1    75.3033\n",
      "Name: 50%, dtype: float64\n",
      "15.35820753763149\n",
      "Median scores for English\n",
      "Energized\n",
      "0    71.9444\n",
      "1    80.9259\n",
      "Name: 50%, dtype: float64\n",
      "12.483945936028372\n"
     ]
    }
   ],
   "source": [
    "percent_increases = []\n",
    "for subject in subjects:\n",
    "    print (f'Median scores for {subject}')\n",
    "    medians = pd.pivot(data=es_data,\n",
    "         index='SchID',\n",
    "         columns='Energized',\n",
    "         values=subject).describe().loc['50%']\n",
    "    \n",
    "    print(medians)\n",
    "    \n",
    "    # normalize\n",
    "    percent_increase = (medians[1] - medians[0]) * 100./medians[0]\n",
    "    percent_increases.append(percent_increase)\n",
    "    print(percent_increase)\n",
    "    \n",
    "    "
   ]
  },
  {
   "cell_type": "code",
   "execution_count": 46,
   "metadata": {},
   "outputs": [
    {
     "data": {
      "text/plain": [
       "Text(0,0.5,'Percent Improvement if School is Energized')"
      ]
     },
     "execution_count": 46,
     "metadata": {},
     "output_type": "execute_result"
    },
    {
     "data": {
      "image/png": "[encoded data removed]",
      "text/plain": [
       "<matplotlib.figure.Figure at 0x1085a3240>"
      ]
     },
     "metadata": {},
     "output_type": "display_data"
    }
   ],
   "source": [
    "perc_inc_df = pd.DataFrame(np.array([subjects, percent_increases]).T, columns=['subject', \n",
    "                                                                 'percent_improvement'])\n",
    "\n",
    "perc_inc_df['percent_improvement'] = perc_inc_df['percent_improvement'].astype(float)\n",
    "perc_inc_df.set_index('subject').plot(kind='bar', figsize=(20, 10))\n",
    "plt.xlabel(' ')\n",
    "plt.ylabel('Percent Improvement if School is Energized', fontsize=20)"
   ]
  },
  {
   "cell_type": "markdown",
   "metadata": {},
   "source": [
    "- We see that the sciences have a larger median improvement if school is energized. We can attribute this to the fact that being energized means more lab experiments can be performed by students, thereby increasing their learning. Chances are, energized schools also have internet connectivity which may contribute to this improvement. "
   ]
  },
  {
   "cell_type": "markdown",
   "metadata": {},
   "source": [
    "# Effect of Internet Connectivity"
   ]
  },
  {
   "cell_type": "code",
   "execution_count": 47,
   "metadata": {},
   "outputs": [
    {
     "data": {
      "text/plain": [
       "Index(['SchID', 'SchName', 'DivName', 'DivisionCode', 'Province',\n",
       "       'MunicipalityORCity', 'Clusters', 'Region', 'Filipino', 'AralinP',\n",
       "       'Mathematics', 'Science', 'English', 'Overall', 'Internet', 'Lat',\n",
       "       'Long', 'Enrolled', 'Teachers', 'Ratio', 'Energized', 'Grid',\n",
       "       'SchoolType', 'PBOR', 'PovertyCluster', 'PovertyIncidence',\n",
       "       'LowerLimit', 'UpperLimit'],\n",
       "      dtype='object')"
      ]
     },
     "execution_count": 47,
     "metadata": {},
     "output_type": "execute_result"
    }
   ],
   "source": [
    "es_data.columns"
   ]
  },
  {
   "cell_type": "code",
   "execution_count": 48,
   "metadata": {},
   "outputs": [
    {
     "data": {
      "text/plain": [
       "<seaborn.axisgrid.FacetGrid at 0x1a19b3ab70>"
      ]
     },
     "execution_count": 48,
     "metadata": {},
     "output_type": "execute_result"
    },
    {
     "data": {
      "image/png": "[encoded data removed]",
      "text/plain": [
       "<matplotlib.figure.Figure at 0x1a105f3cf8>"
      ]
     },
     "metadata": {},
     "output_type": "display_data"
    }
   ],
   "source": [
    "sns.catplot(data=es_data,\n",
    "            x='Internet',\n",
    "            y='Overall',\n",
    "            kind='box',\n",
    "            height=10)"
   ]
  },
  {
   "cell_type": "markdown",
   "metadata": {},
   "source": [
    "### Per Subject Analysis"
   ]
  },
  {
   "cell_type": "code",
   "execution_count": 50,
   "metadata": {},
   "outputs": [
    {
     "name": "stdout",
     "output_type": "stream",
     "text": [
      "Score Difference for Filipino\n"
     ]
    },
    {
     "data": {
      "image/png": "[encoded data removed]",
      "text/plain": [
       "<matplotlib.figure.Figure at 0x1a1cc68518>"
      ]
     },
     "metadata": {},
     "output_type": "display_data"
    },
    {
     "name": "stdout",
     "output_type": "stream",
     "text": [
      "Score Difference for AralinP\n"
     ]
    },
    {
     "data": {
      "image/png": "[encoded data removed]",
      "text/plain": [
       "<matplotlib.figure.Figure at 0x1a1a7b5588>"
      ]
     },
     "metadata": {},
     "output_type": "display_data"
    },
    {
     "name": "stdout",
     "output_type": "stream",
     "text": [
      "Score Difference for Mathematics\n"
     ]
    },
    {
     "data": {
      "image/png": "[encoded data removed]",
      "text/plain": [
       "<matplotlib.figure.Figure at 0x1a1bdf3390>"
      ]
     },
     "metadata": {},
     "output_type": "display_data"
    },
    {
     "name": "stdout",
     "output_type": "stream",
     "text": [
      "Score Difference for Science\n"
     ]
    },
    {
     "data": {
      "image/png": "[encoded data removed]",
      "text/plain": [
       "<matplotlib.figure.Figure at 0x1a1be12b38>"
      ]
     },
     "metadata": {},
     "output_type": "display_data"
    },
    {
     "name": "stdout",
     "output_type": "stream",
     "text": [
      "Score Difference for English\n"
     ]
    },
    {
     "data": {
      "image/png": "[encoded data removed]",
      "text/plain": [
       "<matplotlib.figure.Figure at 0x1a1b8e1400>"
      ]
     },
     "metadata": {},
     "output_type": "display_data"
    }
   ],
   "source": [
    "subjects = ['Filipino', 'AralinP', 'Mathematics', 'Science', 'English']\n",
    "for subject in subjects:\n",
    "    print (f'Score Difference for {subject}')\n",
    "    sns.catplot(data=es_data,\n",
    "                x='Internet',\n",
    "                y=subject,\n",
    "                kind='box',\n",
    "                height=10)\n",
    "    plt.show()\n",
    "    "
   ]
  },
  {
   "cell_type": "code",
   "execution_count": 51,
   "metadata": {},
   "outputs": [
    {
     "name": "stdout",
     "output_type": "stream",
     "text": [
      "Median scores for Filipino\n",
      "Internet\n",
      "0    73.2500\n",
      "1    73.3333\n",
      "Name: 50%, dtype: float64\n",
      "0.11372013651876335\n",
      "Median scores for AralinP\n",
      "Internet\n",
      "0    77.50000\n",
      "1    78.04725\n",
      "Name: 50%, dtype: float64\n",
      "0.7061290322580714\n",
      "Median scores for Mathematics\n",
      "Internet\n",
      "0    81.84780\n",
      "1    81.44325\n",
      "Name: 50%, dtype: float64\n",
      "-0.49427107387125907\n",
      "Median scores for Science\n",
      "Internet\n",
      "0    74.18270\n",
      "1    75.38145\n",
      "Name: 50%, dtype: float64\n",
      "1.6159428006799483\n",
      "Median scores for English\n",
      "Internet\n",
      "0    80.3846\n",
      "1    80.4321\n",
      "Name: 50%, dtype: float64\n",
      "0.059090920400157766\n"
     ]
    }
   ],
   "source": [
    "percent_increases = []\n",
    "for subject in subjects:\n",
    "    print (f'Median scores for {subject}')\n",
    "    medians = pd.pivot(data=es_data,\n",
    "         index='SchID',\n",
    "         columns='Internet',\n",
    "         values=subject).describe().loc['50%']\n",
    "    \n",
    "    print(medians)\n",
    "    \n",
    "    # normalize\n",
    "    percent_increase = (medians[1] - medians[0]) * 100./medians[0]\n",
    "    percent_increases.append(percent_increase)\n",
    "    print(percent_increase)\n",
    "    \n",
    "    "
   ]
  },
  {
   "cell_type": "markdown",
   "metadata": {},
   "source": [
    "I don't see the same improvement comparing schools with and schools without internet connectivity."
   ]
  }
 ],
 "metadata": {
  "kernelspec": {
   "display_name": "Python 3",
   "language": "python",
   "name": "python3"
  },
  "language_info": {
   "codemirror_mode": {
    "name": "ipython",
    "version": 3
   },
   "file_extension": ".py",
   "mimetype": "text/x-python",
   "name": "python",
   "nbconvert_exporter": "python",
   "pygments_lexer": "ipython3",
   "version": "3.6.4"
  }
 },
 "nbformat": 4,
 "nbformat_minor": 2
}
